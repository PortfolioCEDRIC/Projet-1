{
 "cells": [
  {
   "cell_type": "markdown",
   "id": "727fddd8-0e5e-4377-95de-739cb59ac408",
   "metadata": {},
   "source": [
    "# **Test d'API et collecte de données de change**"
   ]
  },
  {
   "cell_type": "markdown",
   "id": "0b34fa5b-ee2d-4200-9a81-9dc495f01ae2",
   "metadata": {},
   "source": [
    "#### **OBjectif** \n",
    "\n",
    "#### Collectez des produits à base de “champagne” via l’API Openfood Facts."
   ]
  },
  {
   "cell_type": "code",
   "execution_count": null,
   "id": "d3ca50fa-fd50-4ee5-8c5a-42fa725cb80c",
   "metadata": {},
   "outputs": [],
   "source": []
  },
  {
   "cell_type": "markdown",
   "id": "12adbae6-f928-43f7-bf10-309efac530f7",
   "metadata": {},
   "source": [
    "### **I- Requirements**"
   ]
  },
  {
   "cell_type": "markdown",
   "id": "bd5ced42-4f62-4ca9-889c-353c46dd56de",
   "metadata": {},
   "source": [
    "### **1.1  Télechargement des librairies** "
   ]
  },
  {
   "cell_type": "code",
   "execution_count": 3,
   "id": "ed8384f1-5c88-4567-94de-c495381d5959",
   "metadata": {},
   "outputs": [
    {
     "name": "stdout",
     "output_type": "stream",
     "text": [
      "Collecting openfoodfacts\n",
      "  Downloading openfoodfacts-2.5.1-py3-none-any.whl.metadata (5.2 kB)\n",
      "Requirement already satisfied: pydantic<3.0.0,>=2.0.0 in c:\\users\\hp\\anaconda3\\lib\\site-packages (from openfoodfacts) (2.8.2)\n",
      "Requirement already satisfied: requests>=2.20.0 in c:\\users\\hp\\anaconda3\\lib\\site-packages (from openfoodfacts) (2.32.3)\n",
      "Requirement already satisfied: tqdm<5.0.0,>=4.0.0 in c:\\users\\hp\\anaconda3\\lib\\site-packages (from openfoodfacts) (4.66.5)\n",
      "Requirement already satisfied: annotated-types>=0.4.0 in c:\\users\\hp\\anaconda3\\lib\\site-packages (from pydantic<3.0.0,>=2.0.0->openfoodfacts) (0.6.0)\n",
      "Requirement already satisfied: pydantic-core==2.20.1 in c:\\users\\hp\\anaconda3\\lib\\site-packages (from pydantic<3.0.0,>=2.0.0->openfoodfacts) (2.20.1)\n",
      "Requirement already satisfied: typing-extensions>=4.6.1 in c:\\users\\hp\\anaconda3\\lib\\site-packages (from pydantic<3.0.0,>=2.0.0->openfoodfacts) (4.11.0)\n",
      "Requirement already satisfied: charset-normalizer<4,>=2 in c:\\users\\hp\\anaconda3\\lib\\site-packages (from requests>=2.20.0->openfoodfacts) (3.3.2)\n",
      "Requirement already satisfied: idna<4,>=2.5 in c:\\users\\hp\\anaconda3\\lib\\site-packages (from requests>=2.20.0->openfoodfacts) (3.7)\n",
      "Requirement already satisfied: urllib3<3,>=1.21.1 in c:\\users\\hp\\anaconda3\\lib\\site-packages (from requests>=2.20.0->openfoodfacts) (2.2.3)\n",
      "Requirement already satisfied: certifi>=2017.4.17 in c:\\users\\hp\\anaconda3\\lib\\site-packages (from requests>=2.20.0->openfoodfacts) (2025.1.31)\n",
      "Requirement already satisfied: colorama in c:\\users\\hp\\anaconda3\\lib\\site-packages (from tqdm<5.0.0,>=4.0.0->openfoodfacts) (0.4.6)\n",
      "Downloading openfoodfacts-2.5.1-py3-none-any.whl (56 kB)\n",
      "Installing collected packages: openfoodfacts\n",
      "Successfully installed openfoodfacts-2.5.1\n",
      "Note: you may need to restart the kernel to use updated packages.\n"
     ]
    }
   ],
   "source": [
    "pip install openfoodfacts"
   ]
  },
  {
   "cell_type": "markdown",
   "id": "8decab69-b89c-42c7-ae76-6eae643952c2",
   "metadata": {},
   "source": [
    "### **1.2 Importer les différentes librairies**"
   ]
  },
  {
   "cell_type": "code",
   "execution_count": 15,
   "id": "5b00c049-df42-41a0-b4bb-aab7d84b6eff",
   "metadata": {},
   "outputs": [],
   "source": [
    "import openfoodfacts\n",
    "import pandas as pd\n",
    "import csv"
   ]
  },
  {
   "cell_type": "code",
   "execution_count": 9,
   "id": "60ba9be0-ab5a-4f55-a884-9265a871dfbc",
   "metadata": {},
   "outputs": [
    {
     "name": "stdout",
     "output_type": "stream",
     "text": [
      "Les informations des produits ont été enregistrées dans 'produits_champagne.csv'.\n"
     ]
    }
   ],
   "source": [
    "# Initialiser l'API avec un User-Agent\n",
    "api = openfoodfacts.API(user_agent=\"projet6/1.0 (cgassuc@gmail.com)\", timeout=30)\n",
    "\n",
    "# Effectuer une recherche de produits contenant \"champagne\"\n",
    "resultats = api.product.text_search(\"champagne\")\n",
    "\n",
    "# Vérifier si des produits ont été trouvés\n",
    "if resultats and 'products' in resultats:\n",
    "    produits = resultats['products'][:10]  # Obtenir les 10 premiers produits\n",
    "\n",
    "    # Ouvrir un fichier CSV en écriture\n",
    "    with open('produits_champagne.csv', mode='w', newline='', encoding='utf-8') as fichier_csv:\n",
    "        champs = ['foodId', 'label', 'category', 'foodContentsLabel', 'image']\n",
    "        writer = csv.DictWriter(fichier_csv, fieldnames=champs)\n",
    "\n",
    "        # Écrire l'en-tête du CSV\n",
    "        writer.writeheader()\n",
    "\n",
    "        # Parcourir les produits et écrire les informations dans le CSV\n",
    "        for produit in produits:\n",
    "            writer.writerow({\n",
    "                'foodId': produit.get('id', ''),\n",
    "                'label': produit.get('product_name', ''),\n",
    "                'category': ', '.join(produit.get('categories_tags', [])),\n",
    "                'foodContentsLabel': produit.get('ingredients_text', ''),\n",
    "                'image': produit.get('image_url', '')\n",
    "            })\n",
    "\n",
    "    print(\"Les informations des produits ont été enregistrées dans 'produits_champagne.csv'.\")\n",
    "else:\n",
    "    print(\"Aucun produit trouvé pour 'champagne'.\")\n"
   ]
  },
  {
   "cell_type": "code",
   "execution_count": 13,
   "id": "7fbe2530-38c9-4b5f-a079-5c2e33e3b7ea",
   "metadata": {},
   "outputs": [
    {
     "data": {
      "text/html": [
       "<div>\n",
       "<style scoped>\n",
       "    .dataframe tbody tr th:only-of-type {\n",
       "        vertical-align: middle;\n",
       "    }\n",
       "\n",
       "    .dataframe tbody tr th {\n",
       "        vertical-align: top;\n",
       "    }\n",
       "\n",
       "    .dataframe thead th {\n",
       "        text-align: right;\n",
       "    }\n",
       "</style>\n",
       "<table border=\"1\" class=\"dataframe\">\n",
       "  <thead>\n",
       "    <tr style=\"text-align: right;\">\n",
       "      <th></th>\n",
       "      <th>foodId</th>\n",
       "      <th>label</th>\n",
       "      <th>category</th>\n",
       "      <th>foodContentsLabel</th>\n",
       "      <th>image</th>\n",
       "    </tr>\n",
       "  </thead>\n",
       "  <tbody>\n",
       "    <tr>\n",
       "      <th>0</th>\n",
       "      <td>3039820510250</td>\n",
       "      <td>Vivien Paille Lentilles vertes le paquet de 500 g</td>\n",
       "      <td>en:plant-based-foods-and-beverages, en:plant-b...</td>\n",
       "      <td>Lentilles vertes.</td>\n",
       "      <td>https://images.openfoodfacts.org/images/produc...</td>\n",
       "    </tr>\n",
       "    <tr>\n",
       "      <th>1</th>\n",
       "      <td>3292070010264</td>\n",
       "      <td>Betteraves de Champagne &amp; chèvre crémeux, poin...</td>\n",
       "      <td>en:spreads, en:salted-spreads</td>\n",
       "      <td>Pois chiches 44% - purée de betterave rouge 37...</td>\n",
       "      <td>https://images.openfoodfacts.org/images/produc...</td>\n",
       "    </tr>\n",
       "    <tr>\n",
       "      <th>2</th>\n",
       "      <td>3113934004147</td>\n",
       "      <td>Canard Duchêne</td>\n",
       "      <td>en:beverages, en:alcoholic-beverages, en:wines...</td>\n",
       "      <td>Pinots et de Chardonnay</td>\n",
       "      <td>https://images.openfoodfacts.org/images/produc...</td>\n",
       "    </tr>\n",
       "    <tr>\n",
       "      <th>3</th>\n",
       "      <td>4820097815556</td>\n",
       "      <td>Splashes of champagne</td>\n",
       "      <td>NaN</td>\n",
       "      <td>NaN</td>\n",
       "      <td>https://images.openfoodfacts.org/images/produc...</td>\n",
       "    </tr>\n",
       "    <tr>\n",
       "      <th>4</th>\n",
       "      <td>4056489843696</td>\n",
       "      <td>Rillettes de homard au cognac</td>\n",
       "      <td>en:seafood, en:fishes-and-their-products, en:s...</td>\n",
       "      <td>Chair de homard américain 49%, huile de colza,...</td>\n",
       "      <td>https://images.openfoodfacts.org/images/produc...</td>\n",
       "    </tr>\n",
       "    <tr>\n",
       "      <th>5</th>\n",
       "      <td>3760091726964</td>\n",
       "      <td>Lentilles roses bio</td>\n",
       "      <td>en:plant-based-foods-and-beverages, en:plant-b...</td>\n",
       "      <td>Lentilles</td>\n",
       "      <td>https://images.openfoodfacts.org/images/produc...</td>\n",
       "    </tr>\n",
       "    <tr>\n",
       "      <th>6</th>\n",
       "      <td>3258431220000</td>\n",
       "      <td>NaN</td>\n",
       "      <td>en:beverages, en:alcoholic-beverages, en:wines...</td>\n",
       "      <td>Champagne</td>\n",
       "      <td>https://images.openfoodfacts.org/images/produc...</td>\n",
       "    </tr>\n",
       "    <tr>\n",
       "      <th>7</th>\n",
       "      <td>3114080034057</td>\n",
       "      <td>Champagne rosé</td>\n",
       "      <td>en:beverages, en:alcoholic-beverages, en:wines...</td>\n",
       "      <td>NaN</td>\n",
       "      <td>https://images.openfoodfacts.org/images/produc...</td>\n",
       "    </tr>\n",
       "    <tr>\n",
       "      <th>8</th>\n",
       "      <td>3185370729960</td>\n",
       "      <td>Champagne Impérial Brut</td>\n",
       "      <td>en:beverages-and-beverages-preparations, en:be...</td>\n",
       "      <td>NaN</td>\n",
       "      <td>https://images.openfoodfacts.org/images/produc...</td>\n",
       "    </tr>\n",
       "    <tr>\n",
       "      <th>9</th>\n",
       "      <td>3049610004104</td>\n",
       "      <td>Veuve Clicquot Champagne Ponsardin Brut</td>\n",
       "      <td>en:beverages-and-beverages-preparations, en:be...</td>\n",
       "      <td>Champagne</td>\n",
       "      <td>https://images.openfoodfacts.org/images/produc...</td>\n",
       "    </tr>\n",
       "  </tbody>\n",
       "</table>\n",
       "</div>"
      ],
      "text/plain": [
       "          foodId                                              label  \\\n",
       "0  3039820510250  Vivien Paille Lentilles vertes le paquet de 500 g   \n",
       "1  3292070010264  Betteraves de Champagne & chèvre crémeux, poin...   \n",
       "2  3113934004147                                     Canard Duchêne   \n",
       "3  4820097815556                              Splashes of champagne   \n",
       "4  4056489843696                      Rillettes de homard au cognac   \n",
       "5  3760091726964                                Lentilles roses bio   \n",
       "6  3258431220000                                                NaN   \n",
       "7  3114080034057                                     Champagne rosé   \n",
       "8  3185370729960                            Champagne Impérial Brut   \n",
       "9  3049610004104            Veuve Clicquot Champagne Ponsardin Brut   \n",
       "\n",
       "                                            category  \\\n",
       "0  en:plant-based-foods-and-beverages, en:plant-b...   \n",
       "1                      en:spreads, en:salted-spreads   \n",
       "2  en:beverages, en:alcoholic-beverages, en:wines...   \n",
       "3                                                NaN   \n",
       "4  en:seafood, en:fishes-and-their-products, en:s...   \n",
       "5  en:plant-based-foods-and-beverages, en:plant-b...   \n",
       "6  en:beverages, en:alcoholic-beverages, en:wines...   \n",
       "7  en:beverages, en:alcoholic-beverages, en:wines...   \n",
       "8  en:beverages-and-beverages-preparations, en:be...   \n",
       "9  en:beverages-and-beverages-preparations, en:be...   \n",
       "\n",
       "                                   foodContentsLabel  \\\n",
       "0                                  Lentilles vertes.   \n",
       "1  Pois chiches 44% - purée de betterave rouge 37...   \n",
       "2                            Pinots et de Chardonnay   \n",
       "3                                                NaN   \n",
       "4  Chair de homard américain 49%, huile de colza,...   \n",
       "5                                          Lentilles   \n",
       "6                                          Champagne   \n",
       "7                                                NaN   \n",
       "8                                                NaN   \n",
       "9                                          Champagne   \n",
       "\n",
       "                                               image  \n",
       "0  https://images.openfoodfacts.org/images/produc...  \n",
       "1  https://images.openfoodfacts.org/images/produc...  \n",
       "2  https://images.openfoodfacts.org/images/produc...  \n",
       "3  https://images.openfoodfacts.org/images/produc...  \n",
       "4  https://images.openfoodfacts.org/images/produc...  \n",
       "5  https://images.openfoodfacts.org/images/produc...  \n",
       "6  https://images.openfoodfacts.org/images/produc...  \n",
       "7  https://images.openfoodfacts.org/images/produc...  \n",
       "8  https://images.openfoodfacts.org/images/produc...  \n",
       "9  https://images.openfoodfacts.org/images/produc...  "
      ]
     },
     "execution_count": 13,
     "metadata": {},
     "output_type": "execute_result"
    }
   ],
   "source": [
    "# Lire le fichier CSV\n",
    "chemin_fichier = \"produits_champagne.csv\"\n",
    "data = pd.read_csv(chemin_fichier)\n",
    "# Afficher les  10 lignes\n",
    "data"
   ]
  },
  {
   "cell_type": "code",
   "execution_count": null,
   "id": "0c91db43-cbab-4d57-b446-a29c44566e77",
   "metadata": {},
   "outputs": [],
   "source": []
  }
 ],
 "metadata": {
  "kernelspec": {
   "display_name": "Python 3 (ipykernel)",
   "language": "python",
   "name": "python3"
  },
  "language_info": {
   "codemirror_mode": {
    "name": "ipython",
    "version": 3
   },
   "file_extension": ".py",
   "mimetype": "text/x-python",
   "name": "python",
   "nbconvert_exporter": "python",
   "pygments_lexer": "ipython3",
   "version": "3.12.7"
  }
 },
 "nbformat": 4,
 "nbformat_minor": 5
}
