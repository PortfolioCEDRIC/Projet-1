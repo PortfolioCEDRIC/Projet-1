{
 "cells": [
  {
   "cell_type": "markdown",
   "id": "acb63855",
   "metadata": {},
   "source": [
    "# **Mission 2: Réalisez une veille technique**"
   ]
  },
  {
   "cell_type": "markdown",
   "id": "992b077e",
   "metadata": {},
   "source": [
    "######"
   ]
  },
  {
   "cell_type": "markdown",
   "id": "c7979186",
   "metadata": {},
   "source": [
    "## **Sommaire**"
   ]
  },
  {
   "cell_type": "markdown",
   "id": "df1c2e12",
   "metadata": {},
   "source": [
    "**1. Introduction** <br />\n",
    "&emsp;1.1 Contexte et objectifs du projet<br />\n",
    "&emsp;1.2 Présentation de l’analyse de sentiments<br />\n",
    "\n",
    "**2. Données** <br />\n",
    "&emsp;2.1 Source des données : reviews IMDB<br />\n",
    "&emsp;2.2 Description des données (colonnes, type de sentiment)<br />\n",
    "&emsp;2.3 Nettoyage et prétraitement des données textuelles<br />\n",
    "\n",
    "**3- Importation de l'Environnement et des Données**<br />\n",
    "&emsp;3.1 Téléchargement des librairies manquantes <br />\n",
    "&emsp;3.2 Importation des librairies<br />\n",
    "&emsp;3.3 Importation des données<br />\n",
    "\n",
    "**4. Approche classique (TF-IDF + Naive Bayes)** <br />\n",
    "&emsp;4.1  Vectorisation des textes avec TF-IDF et Entraînement du modèle Naive Bayes<br />\n",
    "&emsp;4.2  Évaluation : précision, rappel, F1-score, matrice de confusion<br />\n",
    "&emsp;4.3  Démo de prédictions(Modèle TF-IDF + Naive Bayes) <br />\n",
    "\n",
    "**5. Finetuning complet: Modèle DistilBERT**<br />\n",
    "&emsp; 5.1 Présentation de DistilBERT<br />\n",
    "&emsp; 5.2 Référence de la technique<br />\n",
    "&emsp; 5.3 Évaluation : précision, rappel, F1-score, matrice de confusion<br />\n",
    "&emsp; 5.4 Demo: Prédictions du modèle entraîné(distilbert)<br />\n",
    "\n",
    "**6. Comparaison visuelle des performances : Baseline vs DistilBERT**<br />\n",
    "&emsp; 6.1 Résultats  de  l'évaluation des metrics<br />\n",
    "\n",
    "**7. Fine-tuning LoRA**<br />\n",
    "\n",
    "**8. Comparaison visuelle des performances : Baseline vs DistilBERT vs LoRa**\n",
    "\n",
    "\n",
    "\n"
   ]
  },
  {
   "cell_type": "markdown",
   "id": "05dfe926",
   "metadata": {},
   "source": [
    "#"
   ]
  },
  {
   "cell_type": "markdown",
   "id": "e67df350",
   "metadata": {},
   "source": [
    "## ------------------------------------------------------------------------\n",
    "## ------------------------------------------------------------------------"
   ]
  },
  {
   "cell_type": "markdown",
   "id": "bef09b6d",
   "metadata": {},
   "source": [
    "#"
   ]
  },
  {
   "cell_type": "markdown",
   "id": "075be857",
   "metadata": {},
   "source": [
    "#"
   ]
  },
  {
   "cell_type": "markdown",
   "id": "c426ed6f",
   "metadata": {},
   "source": [
    "### **1. Introduction**<br />\n",
    "#### &emsp;**1.1 Contexte et objectifs du projet**"
   ]
  },
  {
   "cell_type": "markdown",
   "id": "8f37b7b1",
   "metadata": {},
   "source": [
    "&emsp;**Objectif** : Réaliser un état de l’art sur une technique récente de<br />\n",
    "&emsp;modélisation de données texte, l’analyser, la tester et la comparer<br />\n",
    "&emsp;à une approche plus classique réalisée précédemment<br />\n",
    "\n",
    " "
   ]
  },
  {
   "cell_type": "markdown",
   "id": "48276673",
   "metadata": {},
   "source": [
    "&emsp;**Contexte du projet :**\n",
    "&emsp;Ce projet consiste à analyser les sentiments exprimés dans des critiques<br />\n",
    "&emsp;de films issues de la base de données IMDB. L’objectif est de comparer deux<br />\n",
    "&emsp;approches en traitement automatique du langage naturel (NLP) :<br />\n",
    "\n",
    "&emsp;&emsp;- **Approche classique** : Entraîner un modèle basé sur une représentation TF-IDF<br /> \n",
    "&emsp;&emsp;combinée à un classificateur Naive Bayes.<br /> \n",
    "\n",
    "&emsp;&emsp;- **Approche moderne** : Réaliser un finetuning complet d’un modèle de type <br /> \n",
    "&emsp;&emsp;Transformer, plus récent, tel que DistilBERT (développé il y a moins de 5 ans).<br /> \n",
    "\n",
    "&emsp;&emsp;L’analyse comparative portera sur la performance des deux méthodes dans la tâche<br /> \n",
    "&emsp;&emsp;de classification des sentiments (positif/négatif).<br /> "
   ]
  },
  {
   "cell_type": "markdown",
   "id": "901e14b0",
   "metadata": {},
   "source": [
    "#### &emsp;**1.2 Présentation de l’analyse de sentiments**"
   ]
  },
  {
   "cell_type": "markdown",
   "id": "3da39d19",
   "metadata": {},
   "source": [
    "&emsp;L’analyse de sentiments (Sentiment Analysis) est une technique de traitement automatique<br />\n",
    "&emsp;du langage naturel (NLP) qui consiste à détecter et à interpréter les émotions ou opinions<br /> \n",
    "&emsp;exprimées dans un texte. L’objectif est de classer un contenu textuel selon le sentiment <br />\n",
    "&emsp;qu’il véhicule, le plus souvent dans trois catégories : positif, négatif ou neutre.<br />\n",
    "\n",
    "&emsp;Dans le cadre de ce projet, l’analyse de sentiments s’applique à des critiques de films <br />\n",
    "&emsp;publiées par des utilisateurs sur IMDB. Ces critiques, écrites en langage naturel, reflètent <br />\n",
    "&emsp;l’avis personnel des spectateurs sur les films qu’ils ont vus. Automatiser la classification <br />\n",
    "&emsp;de ces avis permet, par exemple :<br />\n",
    "\n",
    "&emsp;&emsp;- d’agréger rapidement l’opinion générale d’un large public,<br />\n",
    "&emsp;&emsp;- de recommander des films en fonction des préférences émotionnelles,<br />\n",
    "&emsp;&emsp;ou encore de surveiller la réputation d’un contenu cinématographique.<br />\n",
    "&emsp;L’analyse de sentiments combine plusieurs domaines de l’IA :<br />\n",
    "&emsp;&emsp;- Le prétraitement du texte (nettoyage, normalisation, vectorisation),<br />\n",
    "&emsp;&emsp;- Le modélisation statistique (avec des modèles simples comme Naive Bayes),<br />\n",
    "&emsp;&emsp;Et les modèles de langage avancés (comme les Transformers, notamment BERT et DistilBERT).<br />"
   ]
  },
  {
   "cell_type": "markdown",
   "id": "ab5920b0",
   "metadata": {},
   "source": [
    "###"
   ]
  },
  {
   "cell_type": "markdown",
   "id": "a24cddef",
   "metadata": {},
   "source": [
    "### **2. Données**\n",
    "#### &emsp;**2.1 Source des données : reviews IMDB**"
   ]
  },
  {
   "cell_type": "markdown",
   "id": "f2bf9f23",
   "metadata": {},
   "source": [
    "&emsp;Les données utilisées dans ce projet proviennent de l’Internet Movie Database (IMDB), <br />\n",
    "&emsp;une base de données en ligne très populaire contenant des informations sur les films, <br />\n",
    "&emsp;les séries, les acteurs, ainsi que des milliers d’avis écrits par les utilisateurs.<br />\n",
    "\n",
    "&emsp;Pour ce projet d’analyse de sentiments, nous utilisons une version structurée du jeu <br />\n",
    "&emsp;de données IMDB, souvent utilisée dans les projets de NLP :\n",
    "\n",
    "&emsp;Nom du dataset : IMDB Movie Reviews Dataset\n",
    "\n",
    "&emsp;Taille : 50 000 critiques au total\n",
    "\n",
    "&emsp;Répartition :\n",
    "\n",
    "&emsp;&emsp;25 000 critiques pour l'entraînement\n",
    "\n",
    "&emsp;&emsp;25 000 critiques pour les tests\n",
    "\n",
    "&emsp;&emsp;50 % positives, 50 % négatives (données équilibrées)\n",
    "\n",
    "&emsp;Format : texte brut avec étiquette binaire (positive / negative)"
   ]
  },
  {
   "cell_type": "markdown",
   "id": "0eefcb8d",
   "metadata": {},
   "source": [
    "#### &emsp;**2.2 Description des données (colonnes, type de sentiment)**"
   ]
  },
  {
   "cell_type": "markdown",
   "id": "9f4ebc11",
   "metadata": {},
   "source": [
    "&emsp;Le jeu de données IMDB Movie Reviews contient des critiques de films accompagnées<br />\n",
    "&emsp;d’une étiquette de sentiment. Il est conçu pour une tâche de classification binaire.<br />\n",
    "\n",
    "&emsp;Structure typique des données :<br />\n",
    "&emsp;Chaque entrée du dataset contient deux informations principales :<br />\n",
    "\n",
    "&emsp;**Colonne**\t&emsp;&emsp;&emsp;&emsp;**Description**<br />\n",
    "&emsp;&emsp;text\t&emsp;&emsp;&emsp;&emsp;&emsp;&emsp;La critique de film rédigée par un utilisateur\n",
    "(en anglais, format texte brut).<br />\n",
    "&emsp;&emsp;label  &emsp;&emsp;&emsp;&emsp;&emsp;&emsp;Le sentiment associé à la critique :\n",
    "\n",
    "&emsp;&emsp;&emsp;&emsp;&emsp;&emsp;&emsp;&emsp;&emsp;&emsp;&emsp;&emsp; - **0** : sentiment négatif<br />\n",
    "&emsp;&emsp;&emsp;&emsp;&emsp;&emsp;&emsp;&emsp;&emsp;&emsp;&emsp;&emsp; - **1** : sentiment positif<br />\n",
    "\n",
    "NB: Les critiques proviennent de publications d’utilisateurs sur IMDB, incluant parfois un <br />\n",
    "langage informel ou familier."
   ]
  },
  {
   "cell_type": "markdown",
   "id": "79c5cd46",
   "metadata": {},
   "source": [
    "#### &emsp; **2.3 Nettoyage et prétraitement des données textuelles**"
   ]
  },
  {
   "attachments": {
    "image-2.png": {
     "image/png": "[encoded data removed]"
    },
    "image.png": {
     "image/png": "[encoded data removed]"
    }
   },
   "cell_type": "markdown",
   "id": "dfb85950",
   "metadata": {},
   "source": [
    "Dans cette partie je ne m'attarderait pas vraiment sur le nettoyage du texte,<br />\n",
    "car le sentiment de chaque review correspondant est deja connu. Mais il serait<br />\n",
    "important d'ennumer les etapes de nettoyage: <br />\n",
    "\n",
    "&emsp; **1- Suppression des balises HTML**<br />\n",
    "&emsp; Certaines critiques contiennent du texte encapsulé dans des balises HTML.<br />\n",
    "&emsp; Utilisation de bibliothèques comme **BeautifulSoup** ou expressions régulières<br /> \n",
    "&emsp; pour nettoyer cela.<br />\n",
    "&emsp; ![image.png](attachment:image.png)<br />\n",
    "&emsp; ![image-2.png](attachment:image-2.png)<br />\n",
    "\n",
    "&emsp; **3- Tokenisation**<br />\n",
    "&emsp; Découpage du texte en mots (ou tokens).\n",
    "\n",
    "&emsp; **4- Suppression des stopwords**<br />\n",
    "&emsp; Les mots très fréquents comme the, is, and n’apportent souvent pas de valeur.<br />\n",
    "&emsp; ➡️ Utilisation des listes de nltk.corpus.stopwords.<br />\n",
    "\n",
    "&emsp; **5. Lemmatisation (ou stemming)**<br />\n",
    "&emsp; Réduction des mots à leur forme de base (ex : running → run).<br />\n",
    "\n"
   ]
  },
  {
   "cell_type": "markdown",
   "id": "b65c616c",
   "metadata": {},
   "source": [
    "#####"
   ]
  },
  {
   "cell_type": "markdown",
   "id": "b55d8347",
   "metadata": {},
   "source": [
    "#### **3- Importation de l'Environnement et des Données**<br />\n",
    "&emsp;3.1 Téléchargement des librairies manquantes <br />"
   ]
  },
  {
   "cell_type": "code",
   "execution_count": 15,
   "id": "a5dc7bc6",
   "metadata": {},
   "outputs": [
    {
     "name": "stdout",
     "output_type": "stream",
     "text": [
      "Requirement already satisfied: peft in c:\\users\\hp\\documents\\projet 8\\p8_dashboard\\env_dashboard\\lib\\site-packages (0.15.2)\n",
      "Requirement already satisfied: numpy>=1.17 in c:\\users\\hp\\documents\\projet 8\\p8_dashboard\\env_dashboard\\lib\\site-packages (from peft) (2.1.3)\n",
      "Requirement already satisfied: packaging>=20.0 in c:\\users\\hp\\documents\\projet 8\\p8_dashboard\\env_dashboard\\lib\\site-packages (from peft) (24.2)\n",
      "Requirement already satisfied: psutil in c:\\users\\hp\\documents\\projet 8\\p8_dashboard\\env_dashboard\\lib\\site-packages (from peft) (7.0.0)\n",
      "Requirement already satisfied: pyyaml in c:\\users\\hp\\documents\\projet 8\\p8_dashboard\\env_dashboard\\lib\\site-packages (from peft) (6.0.2)\n",
      "Requirement already satisfied: torch>=1.13.0 in c:\\users\\hp\\documents\\projet 8\\p8_dashboard\\env_dashboard\\lib\\site-packages (from peft) (2.6.0)\n",
      "Requirement already satisfied: transformers in c:\\users\\hp\\documents\\projet 8\\p8_dashboard\\env_dashboard\\lib\\site-packages (from peft) (4.50.3)\n",
      "Requirement already satisfied: tqdm in c:\\users\\hp\\documents\\projet 8\\p8_dashboard\\env_dashboard\\lib\\site-packages (from peft) (4.67.1)\n",
      "Requirement already satisfied: accelerate>=0.21.0 in c:\\users\\hp\\documents\\projet 8\\p8_dashboard\\env_dashboard\\lib\\site-packages (from peft) (1.6.0)\n",
      "Requirement already satisfied: safetensors in c:\\users\\hp\\documents\\projet 8\\p8_dashboard\\env_dashboard\\lib\\site-packages (from peft) (0.5.3)\n",
      "Requirement already satisfied: huggingface_hub>=0.25.0 in c:\\users\\hp\\documents\\projet 8\\p8_dashboard\\env_dashboard\\lib\\site-packages (from peft) (0.30.1)\n",
      "Requirement already satisfied: filelock in c:\\users\\hp\\documents\\projet 8\\p8_dashboard\\env_dashboard\\lib\\site-packages (from huggingface_hub>=0.25.0->peft) (3.18.0)\n",
      "Requirement already satisfied: fsspec>=2023.5.0 in c:\\users\\hp\\documents\\projet 8\\p8_dashboard\\env_dashboard\\lib\\site-packages (from huggingface_hub>=0.25.0->peft) (2024.12.0)\n",
      "Requirement already satisfied: requests in c:\\users\\hp\\documents\\projet 8\\p8_dashboard\\env_dashboard\\lib\\site-packages (from huggingface_hub>=0.25.0->peft) (2.32.3)\n",
      "Requirement already satisfied: typing-extensions>=3.7.4.3 in c:\\users\\hp\\documents\\projet 8\\p8_dashboard\\env_dashboard\\lib\\site-packages (from huggingface_hub>=0.25.0->peft) (4.13.0)\n",
      "Requirement already satisfied: networkx in c:\\users\\hp\\documents\\projet 8\\p8_dashboard\\env_dashboard\\lib\\site-packages (from torch>=1.13.0->peft) (3.4.2)\n",
      "Requirement already satisfied: jinja2 in c:\\users\\hp\\documents\\projet 8\\p8_dashboard\\env_dashboard\\lib\\site-packages (from torch>=1.13.0->peft) (3.1.6)\n",
      "Requirement already satisfied: sympy==1.13.1 in c:\\users\\hp\\documents\\projet 8\\p8_dashboard\\env_dashboard\\lib\\site-packages (from torch>=1.13.0->peft) (1.13.1)\n",
      "Requirement already satisfied: mpmath<1.4,>=1.1.0 in c:\\users\\hp\\documents\\projet 8\\p8_dashboard\\env_dashboard\\lib\\site-packages (from sympy==1.13.1->torch>=1.13.0->peft) (1.3.0)\n",
      "Requirement already satisfied: colorama in c:\\users\\hp\\documents\\projet 8\\p8_dashboard\\env_dashboard\\lib\\site-packages (from tqdm->peft) (0.4.6)\n",
      "Requirement already satisfied: regex!=2019.12.17 in c:\\users\\hp\\documents\\projet 8\\p8_dashboard\\env_dashboard\\lib\\site-packages (from transformers->peft) (2024.11.6)\n",
      "Requirement already satisfied: tokenizers<0.22,>=0.21 in c:\\users\\hp\\documents\\projet 8\\p8_dashboard\\env_dashboard\\lib\\site-packages (from transformers->peft) (0.21.1)\n",
      "Requirement already satisfied: MarkupSafe>=2.0 in c:\\users\\hp\\documents\\projet 8\\p8_dashboard\\env_dashboard\\lib\\site-packages (from jinja2->torch>=1.13.0->peft) (3.0.2)\n",
      "Requirement already satisfied: charset-normalizer<4,>=2 in c:\\users\\hp\\documents\\projet 8\\p8_dashboard\\env_dashboard\\lib\\site-packages (from requests->huggingface_hub>=0.25.0->peft) (3.4.1)\n",
      "Requirement already satisfied: idna<4,>=2.5 in c:\\users\\hp\\documents\\projet 8\\p8_dashboard\\env_dashboard\\lib\\site-packages (from requests->huggingface_hub>=0.25.0->peft) (3.10)\n",
      "Requirement already satisfied: urllib3<3,>=1.21.1 in c:\\users\\hp\\documents\\projet 8\\p8_dashboard\\env_dashboard\\lib\\site-packages (from requests->huggingface_hub>=0.25.0->peft) (2.3.0)\n",
      "Requirement already satisfied: certifi>=2017.4.17 in c:\\users\\hp\\documents\\projet 8\\p8_dashboard\\env_dashboard\\lib\\site-packages (from requests->huggingface_hub>=0.25.0->peft) (2025.1.31)\n"
     ]
    },
    {
     "name": "stderr",
     "output_type": "stream",
     "text": [
      "\n",
      "[notice] A new release of pip is available: 25.0.1 -> 25.1.1\n",
      "[notice] To update, run: python.exe -m pip install --upgrade pip\n"
     ]
    },
    {
     "name": "stdout",
     "output_type": "stream",
     "text": [
      "Requirement already satisfied: evaluate in c:\\users\\hp\\documents\\projet 8\\p8_dashboard\\env_dashboard\\lib\\site-packages (0.4.3)\n",
      "Requirement already satisfied: datasets>=2.0.0 in c:\\users\\hp\\documents\\projet 8\\p8_dashboard\\env_dashboard\\lib\\site-packages (from evaluate) (3.5.0)\n",
      "Requirement already satisfied: numpy>=1.17 in c:\\users\\hp\\documents\\projet 8\\p8_dashboard\\env_dashboard\\lib\\site-packages (from evaluate) (2.1.3)\n",
      "Requirement already satisfied: dill in c:\\users\\hp\\documents\\projet 8\\p8_dashboard\\env_dashboard\\lib\\site-packages (from evaluate) (0.3.8)\n",
      "Requirement already satisfied: pandas in c:\\users\\hp\\documents\\projet 8\\p8_dashboard\\env_dashboard\\lib\\site-packages (from evaluate) (2.2.3)\n",
      "Requirement already satisfied: requests>=2.19.0 in c:\\users\\hp\\documents\\projet 8\\p8_dashboard\\env_dashboard\\lib\\site-packages (from evaluate) (2.32.3)\n",
      "Requirement already satisfied: tqdm>=4.62.1 in c:\\users\\hp\\documents\\projet 8\\p8_dashboard\\env_dashboard\\lib\\site-packages (from evaluate) (4.67.1)\n",
      "Requirement already satisfied: xxhash in c:\\users\\hp\\documents\\projet 8\\p8_dashboard\\env_dashboard\\lib\\site-packages (from evaluate) (3.5.0)\n",
      "Requirement already satisfied: multiprocess in c:\\users\\hp\\documents\\projet 8\\p8_dashboard\\env_dashboard\\lib\\site-packages (from evaluate) (0.70.16)\n",
      "Requirement already satisfied: fsspec>=2021.05.0 in c:\\users\\hp\\documents\\projet 8\\p8_dashboard\\env_dashboard\\lib\\site-packages (from fsspec[http]>=2021.05.0->evaluate) (2024.12.0)\n",
      "Requirement already satisfied: huggingface-hub>=0.7.0 in c:\\users\\hp\\documents\\projet 8\\p8_dashboard\\env_dashboard\\lib\\site-packages (from evaluate) (0.30.1)\n",
      "Requirement already satisfied: packaging in c:\\users\\hp\\documents\\projet 8\\p8_dashboard\\env_dashboard\\lib\\site-packages (from evaluate) (24.2)\n",
      "Requirement already satisfied: filelock in c:\\users\\hp\\documents\\projet 8\\p8_dashboard\\env_dashboard\\lib\\site-packages (from datasets>=2.0.0->evaluate) (3.18.0)\n",
      "Requirement already satisfied: pyarrow>=15.0.0 in c:\\users\\hp\\documents\\projet 8\\p8_dashboard\\env_dashboard\\lib\\site-packages (from datasets>=2.0.0->evaluate) (19.0.1)\n",
      "Requirement already satisfied: aiohttp in c:\\users\\hp\\documents\\projet 8\\p8_dashboard\\env_dashboard\\lib\\site-packages (from datasets>=2.0.0->evaluate) (3.11.16)\n",
      "Requirement already satisfied: pyyaml>=5.1 in c:\\users\\hp\\documents\\projet 8\\p8_dashboard\\env_dashboard\\lib\\site-packages (from datasets>=2.0.0->evaluate) (6.0.2)\n",
      "Requirement already satisfied: typing-extensions>=3.7.4.3 in c:\\users\\hp\\documents\\projet 8\\p8_dashboard\\env_dashboard\\lib\\site-packages (from huggingface-hub>=0.7.0->evaluate) (4.13.0)\n",
      "Requirement already satisfied: charset-normalizer<4,>=2 in c:\\users\\hp\\documents\\projet 8\\p8_dashboard\\env_dashboard\\lib\\site-packages (from requests>=2.19.0->evaluate) (3.4.1)\n",
      "Requirement already satisfied: idna<4,>=2.5 in c:\\users\\hp\\documents\\projet 8\\p8_dashboard\\env_dashboard\\lib\\site-packages (from requests>=2.19.0->evaluate) (3.10)\n",
      "Requirement already satisfied: urllib3<3,>=1.21.1 in c:\\users\\hp\\documents\\projet 8\\p8_dashboard\\env_dashboard\\lib\\site-packages (from requests>=2.19.0->evaluate) (2.3.0)\n",
      "Requirement already satisfied: certifi>=2017.4.17 in c:\\users\\hp\\documents\\projet 8\\p8_dashboard\\env_dashboard\\lib\\site-packages (from requests>=2.19.0->evaluate) (2025.1.31)\n",
      "Requirement already satisfied: colorama in c:\\users\\hp\\documents\\projet 8\\p8_dashboard\\env_dashboard\\lib\\site-packages (from tqdm>=4.62.1->evaluate) (0.4.6)\n",
      "Requirement already satisfied: python-dateutil>=2.8.2 in c:\\users\\hp\\documents\\projet 8\\p8_dashboard\\env_dashboard\\lib\\site-packages (from pandas->evaluate) (2.9.0.post0)\n",
      "Requirement already satisfied: pytz>=2020.1 in c:\\users\\hp\\documents\\projet 8\\p8_dashboard\\env_dashboard\\lib\\site-packages (from pandas->evaluate) (2025.2)\n",
      "Requirement already satisfied: tzdata>=2022.7 in c:\\users\\hp\\documents\\projet 8\\p8_dashboard\\env_dashboard\\lib\\site-packages (from pandas->evaluate) (2025.2)\n",
      "Requirement already satisfied: aiohappyeyeballs>=2.3.0 in c:\\users\\hp\\documents\\projet 8\\p8_dashboard\\env_dashboard\\lib\\site-packages (from aiohttp->datasets>=2.0.0->evaluate) (2.6.1)\n",
      "Requirement already satisfied: aiosignal>=1.1.2 in c:\\users\\hp\\documents\\projet 8\\p8_dashboard\\env_dashboard\\lib\\site-packages (from aiohttp->datasets>=2.0.0->evaluate) (1.3.2)\n",
      "Requirement already satisfied: attrs>=17.3.0 in c:\\users\\hp\\documents\\projet 8\\p8_dashboard\\env_dashboard\\lib\\site-packages (from aiohttp->datasets>=2.0.0->evaluate) (25.3.0)\n",
      "Requirement already satisfied: frozenlist>=1.1.1 in c:\\users\\hp\\documents\\projet 8\\p8_dashboard\\env_dashboard\\lib\\site-packages (from aiohttp->datasets>=2.0.0->evaluate) (1.5.0)\n",
      "Requirement already satisfied: multidict<7.0,>=4.5 in c:\\users\\hp\\documents\\projet 8\\p8_dashboard\\env_dashboard\\lib\\site-packages (from aiohttp->datasets>=2.0.0->evaluate) (6.3.2)\n",
      "Requirement already satisfied: propcache>=0.2.0 in c:\\users\\hp\\documents\\projet 8\\p8_dashboard\\env_dashboard\\lib\\site-packages (from aiohttp->datasets>=2.0.0->evaluate) (0.3.1)\n",
      "Requirement already satisfied: yarl<2.0,>=1.17.0 in c:\\users\\hp\\documents\\projet 8\\p8_dashboard\\env_dashboard\\lib\\site-packages (from aiohttp->datasets>=2.0.0->evaluate) (1.18.3)\n",
      "Requirement already satisfied: six>=1.5 in c:\\users\\hp\\documents\\projet 8\\p8_dashboard\\env_dashboard\\lib\\site-packages (from python-dateutil>=2.8.2->pandas->evaluate) (1.17.0)\n"
     ]
    },
    {
     "name": "stderr",
     "output_type": "stream",
     "text": [
      "\n",
      "[notice] A new release of pip is available: 25.0.1 -> 25.1.1\n",
      "[notice] To update, run: python.exe -m pip install --upgrade pip\n"
     ]
    },
    {
     "name": "stdout",
     "output_type": "stream",
     "text": [
      "Requirement already satisfied: tf-keras in c:\\users\\hp\\documents\\projet 8\\p8_dashboard\\env_dashboard\\lib\\site-packages (2.19.0)\n",
      "Requirement already satisfied: tensorflow<2.20,>=2.19 in c:\\users\\hp\\documents\\projet 8\\p8_dashboard\\env_dashboard\\lib\\site-packages (from tf-keras) (2.19.0)\n",
      "Requirement already satisfied: absl-py>=1.0.0 in c:\\users\\hp\\documents\\projet 8\\p8_dashboard\\env_dashboard\\lib\\site-packages (from tensorflow<2.20,>=2.19->tf-keras) (2.2.2)\n",
      "Requirement already satisfied: astunparse>=1.6.0 in c:\\users\\hp\\documents\\projet 8\\p8_dashboard\\env_dashboard\\lib\\site-packages (from tensorflow<2.20,>=2.19->tf-keras) (1.6.3)\n",
      "Requirement already satisfied: flatbuffers>=24.3.25 in c:\\users\\hp\\documents\\projet 8\\p8_dashboard\\env_dashboard\\lib\\site-packages (from tensorflow<2.20,>=2.19->tf-keras) (25.2.10)\n",
      "Requirement already satisfied: gast!=0.5.0,!=0.5.1,!=0.5.2,>=0.2.1 in c:\\users\\hp\\documents\\projet 8\\p8_dashboard\\env_dashboard\\lib\\site-packages (from tensorflow<2.20,>=2.19->tf-keras) (0.6.0)\n",
      "Requirement already satisfied: google-pasta>=0.1.1 in c:\\users\\hp\\documents\\projet 8\\p8_dashboard\\env_dashboard\\lib\\site-packages (from tensorflow<2.20,>=2.19->tf-keras) (0.2.0)\n",
      "Requirement already satisfied: libclang>=13.0.0 in c:\\users\\hp\\documents\\projet 8\\p8_dashboard\\env_dashboard\\lib\\site-packages (from tensorflow<2.20,>=2.19->tf-keras) (18.1.1)\n",
      "Requirement already satisfied: opt-einsum>=2.3.2 in c:\\users\\hp\\documents\\projet 8\\p8_dashboard\\env_dashboard\\lib\\site-packages (from tensorflow<2.20,>=2.19->tf-keras) (3.4.0)\n",
      "Requirement already satisfied: packaging in c:\\users\\hp\\documents\\projet 8\\p8_dashboard\\env_dashboard\\lib\\site-packages (from tensorflow<2.20,>=2.19->tf-keras) (24.2)\n",
      "Requirement already satisfied: protobuf!=4.21.0,!=4.21.1,!=4.21.2,!=4.21.3,!=4.21.4,!=4.21.5,<6.0.0dev,>=3.20.3 in c:\\users\\hp\\documents\\projet 8\\p8_dashboard\\env_dashboard\\lib\\site-packages (from tensorflow<2.20,>=2.19->tf-keras) (5.29.4)\n",
      "Requirement already satisfied: requests<3,>=2.21.0 in c:\\users\\hp\\documents\\projet 8\\p8_dashboard\\env_dashboard\\lib\\site-packages (from tensorflow<2.20,>=2.19->tf-keras) (2.32.3)\n",
      "Requirement already satisfied: setuptools in c:\\users\\hp\\documents\\projet 8\\p8_dashboard\\env_dashboard\\lib\\site-packages (from tensorflow<2.20,>=2.19->tf-keras) (65.5.0)\n",
      "Requirement already satisfied: six>=1.12.0 in c:\\users\\hp\\documents\\projet 8\\p8_dashboard\\env_dashboard\\lib\\site-packages (from tensorflow<2.20,>=2.19->tf-keras) (1.17.0)\n",
      "Requirement already satisfied: termcolor>=1.1.0 in c:\\users\\hp\\documents\\projet 8\\p8_dashboard\\env_dashboard\\lib\\site-packages (from tensorflow<2.20,>=2.19->tf-keras) (3.0.1)\n",
      "Requirement already satisfied: typing-extensions>=3.6.6 in c:\\users\\hp\\documents\\projet 8\\p8_dashboard\\env_dashboard\\lib\\site-packages (from tensorflow<2.20,>=2.19->tf-keras) (4.13.0)\n",
      "Requirement already satisfied: wrapt>=1.11.0 in c:\\users\\hp\\documents\\projet 8\\p8_dashboard\\env_dashboard\\lib\\site-packages (from tensorflow<2.20,>=2.19->tf-keras) (1.17.2)\n",
      "Requirement already satisfied: grpcio<2.0,>=1.24.3 in c:\\users\\hp\\documents\\projet 8\\p8_dashboard\\env_dashboard\\lib\\site-packages (from tensorflow<2.20,>=2.19->tf-keras) (1.71.0)\n",
      "Requirement already satisfied: tensorboard~=2.19.0 in c:\\users\\hp\\documents\\projet 8\\p8_dashboard\\env_dashboard\\lib\\site-packages (from tensorflow<2.20,>=2.19->tf-keras) (2.19.0)\n",
      "Requirement already satisfied: keras>=3.5.0 in c:\\users\\hp\\documents\\projet 8\\p8_dashboard\\env_dashboard\\lib\\site-packages (from tensorflow<2.20,>=2.19->tf-keras) (3.9.2)\n",
      "Requirement already satisfied: numpy<2.2.0,>=1.26.0 in c:\\users\\hp\\documents\\projet 8\\p8_dashboard\\env_dashboard\\lib\\site-packages (from tensorflow<2.20,>=2.19->tf-keras) (2.1.3)\n",
      "Requirement already satisfied: h5py>=3.11.0 in c:\\users\\hp\\documents\\projet 8\\p8_dashboard\\env_dashboard\\lib\\site-packages (from tensorflow<2.20,>=2.19->tf-keras) (3.13.0)\n",
      "Requirement already satisfied: ml-dtypes<1.0.0,>=0.5.1 in c:\\users\\hp\\documents\\projet 8\\p8_dashboard\\env_dashboard\\lib\\site-packages (from tensorflow<2.20,>=2.19->tf-keras) (0.5.1)\n",
      "Requirement already satisfied: tensorflow-io-gcs-filesystem>=0.23.1 in c:\\users\\hp\\documents\\projet 8\\p8_dashboard\\env_dashboard\\lib\\site-packages (from tensorflow<2.20,>=2.19->tf-keras) (0.31.0)\n",
      "Requirement already satisfied: wheel<1.0,>=0.23.0 in c:\\users\\hp\\documents\\projet 8\\p8_dashboard\\env_dashboard\\lib\\site-packages (from astunparse>=1.6.0->tensorflow<2.20,>=2.19->tf-keras) (0.45.1)\n",
      "Requirement already satisfied: rich in c:\\users\\hp\\documents\\projet 8\\p8_dashboard\\env_dashboard\\lib\\site-packages (from keras>=3.5.0->tensorflow<2.20,>=2.19->tf-keras) (14.0.0)\n",
      "Requirement already satisfied: namex in c:\\users\\hp\\documents\\projet 8\\p8_dashboard\\env_dashboard\\lib\\site-packages (from keras>=3.5.0->tensorflow<2.20,>=2.19->tf-keras) (0.0.8)\n",
      "Requirement already satisfied: optree in c:\\users\\hp\\documents\\projet 8\\p8_dashboard\\env_dashboard\\lib\\site-packages (from keras>=3.5.0->tensorflow<2.20,>=2.19->tf-keras) (0.14.1)\n",
      "Requirement already satisfied: charset-normalizer<4,>=2 in c:\\users\\hp\\documents\\projet 8\\p8_dashboard\\env_dashboard\\lib\\site-packages (from requests<3,>=2.21.0->tensorflow<2.20,>=2.19->tf-keras) (3.4.1)\n",
      "Requirement already satisfied: idna<4,>=2.5 in c:\\users\\hp\\documents\\projet 8\\p8_dashboard\\env_dashboard\\lib\\site-packages (from requests<3,>=2.21.0->tensorflow<2.20,>=2.19->tf-keras) (3.10)\n",
      "Requirement already satisfied: urllib3<3,>=1.21.1 in c:\\users\\hp\\documents\\projet 8\\p8_dashboard\\env_dashboard\\lib\\site-packages (from requests<3,>=2.21.0->tensorflow<2.20,>=2.19->tf-keras) (2.3.0)\n",
      "Requirement already satisfied: certifi>=2017.4.17 in c:\\users\\hp\\documents\\projet 8\\p8_dashboard\\env_dashboard\\lib\\site-packages (from requests<3,>=2.21.0->tensorflow<2.20,>=2.19->tf-keras) (2025.1.31)\n",
      "Requirement already satisfied: markdown>=2.6.8 in c:\\users\\hp\\documents\\projet 8\\p8_dashboard\\env_dashboard\\lib\\site-packages (from tensorboard~=2.19.0->tensorflow<2.20,>=2.19->tf-keras) (3.7)\n",
      "Requirement already satisfied: tensorboard-data-server<0.8.0,>=0.7.0 in c:\\users\\hp\\documents\\projet 8\\p8_dashboard\\env_dashboard\\lib\\site-packages (from tensorboard~=2.19.0->tensorflow<2.20,>=2.19->tf-keras) (0.7.2)\n",
      "Requirement already satisfied: werkzeug>=1.0.1 in c:\\users\\hp\\documents\\projet 8\\p8_dashboard\\env_dashboard\\lib\\site-packages (from tensorboard~=2.19.0->tensorflow<2.20,>=2.19->tf-keras) (3.1.3)\n",
      "Requirement already satisfied: MarkupSafe>=2.1.1 in c:\\users\\hp\\documents\\projet 8\\p8_dashboard\\env_dashboard\\lib\\site-packages (from werkzeug>=1.0.1->tensorboard~=2.19.0->tensorflow<2.20,>=2.19->tf-keras) (3.0.2)\n",
      "Requirement already satisfied: markdown-it-py>=2.2.0 in c:\\users\\hp\\documents\\projet 8\\p8_dashboard\\env_dashboard\\lib\\site-packages (from rich->keras>=3.5.0->tensorflow<2.20,>=2.19->tf-keras) (3.0.0)\n",
      "Requirement already satisfied: pygments<3.0.0,>=2.13.0 in c:\\users\\hp\\documents\\projet 8\\p8_dashboard\\env_dashboard\\lib\\site-packages (from rich->keras>=3.5.0->tensorflow<2.20,>=2.19->tf-keras) (2.19.1)\n",
      "Requirement already satisfied: mdurl~=0.1 in c:\\users\\hp\\documents\\projet 8\\p8_dashboard\\env_dashboard\\lib\\site-packages (from markdown-it-py>=2.2.0->rich->keras>=3.5.0->tensorflow<2.20,>=2.19->tf-keras) (0.1.2)\n"
     ]
    },
    {
     "name": "stderr",
     "output_type": "stream",
     "text": [
      "\n",
      "[notice] A new release of pip is available: 25.0.1 -> 25.1.1\n",
      "[notice] To update, run: python.exe -m pip install --upgrade pip\n"
     ]
    },
    {
     "name": "stdout",
     "output_type": "stream",
     "text": [
      "Requirement already satisfied: hf_xet in c:\\users\\hp\\documents\\projet 8\\p8_dashboard\\env_dashboard\\lib\\site-packages (1.1.0)\n"
     ]
    },
    {
     "name": "stderr",
     "output_type": "stream",
     "text": [
      "\n",
      "[notice] A new release of pip is available: 25.0.1 -> 25.1.1\n",
      "[notice] To update, run: python.exe -m pip install --upgrade pip\n"
     ]
    }
   ],
   "source": [
    "# Installation des bibliothèques nécessaires\n",
    "!pip install peft\n",
    "!pip install evaluate\n",
    "!pip install tf-keras\n",
    "!pip install hf_xet"
   ]
  },
  {
   "cell_type": "markdown",
   "id": "06df41fa",
   "metadata": {},
   "source": [
    "**3.2 Importation des librairies**<br />\n",
    "\n",
    "&emsp;Importation des bibliothèques nécessaires pour le traitement des données et l'entraînement du modèle.\n"
   ]
  },
  {
   "cell_type": "code",
   "execution_count": 16,
   "id": "4ef8ea85-d04d-4217-99a3-21c446bf2ffa",
   "metadata": {},
   "outputs": [],
   "source": [
    "# Importation des bibliothèques essentielles pour le traitement des données et le machine learning\n",
    "import numpy as np\n",
    "import torch\n",
    "import pandas as pd\n",
    "from datasets import Dataset\n",
    "from sklearn.model_selection import train_test_split\n",
    "\n",
    "# Bibliothèque pour l'évaluation des modèles\n",
    "import evaluate"
   ]
  },
  {
   "cell_type": "markdown",
   "id": "aa6a4484-07d8-49dd-81ef-672105f53ebe",
   "metadata": {},
   "source": [
    "**3.3 Importation des données**"
   ]
  },
  {
   "cell_type": "code",
   "execution_count": 17,
   "id": "fa9722d3-0609-4aea-9585-9aa2cfc1fc9a",
   "metadata": {},
   "outputs": [
    {
     "data": {
      "text/html": [
       "<div>\n",
       "<style scoped>\n",
       "    .dataframe tbody tr th:only-of-type {\n",
       "        vertical-align: middle;\n",
       "    }\n",
       "\n",
       "    .dataframe tbody tr th {\n",
       "        vertical-align: top;\n",
       "    }\n",
       "\n",
       "    .dataframe thead th {\n",
       "        text-align: right;\n",
       "    }\n",
       "</style>\n",
       "<table border=\"1\" class=\"dataframe\">\n",
       "  <thead>\n",
       "    <tr style=\"text-align: right;\">\n",
       "      <th></th>\n",
       "      <th>review</th>\n",
       "      <th>sentiment</th>\n",
       "    </tr>\n",
       "  </thead>\n",
       "  <tbody>\n",
       "    <tr>\n",
       "      <th>0</th>\n",
       "      <td>One of the other reviewers has mentioned that ...</td>\n",
       "      <td>positive</td>\n",
       "    </tr>\n",
       "    <tr>\n",
       "      <th>1</th>\n",
       "      <td>A wonderful little production. &lt;br /&gt;&lt;br /&gt;The...</td>\n",
       "      <td>positive</td>\n",
       "    </tr>\n",
       "    <tr>\n",
       "      <th>2</th>\n",
       "      <td>I thought this was a wonderful way to spend ti...</td>\n",
       "      <td>positive</td>\n",
       "    </tr>\n",
       "    <tr>\n",
       "      <th>3</th>\n",
       "      <td>Basically there's a family where a little boy ...</td>\n",
       "      <td>negative</td>\n",
       "    </tr>\n",
       "    <tr>\n",
       "      <th>4</th>\n",
       "      <td>Petter Mattei's \"Love in the Time of Money\" is...</td>\n",
       "      <td>positive</td>\n",
       "    </tr>\n",
       "  </tbody>\n",
       "</table>\n",
       "</div>"
      ],
      "text/plain": [
       "                                              review sentiment\n",
       "0  One of the other reviewers has mentioned that ...  positive\n",
       "1  A wonderful little production. <br /><br />The...  positive\n",
       "2  I thought this was a wonderful way to spend ti...  positive\n",
       "3  Basically there's a family where a little boy ...  negative\n",
       "4  Petter Mattei's \"Love in the Time of Money\" is...  positive"
      ]
     },
     "execution_count": 17,
     "metadata": {},
     "output_type": "execute_result"
    }
   ],
   "source": [
    "# Chemin le fichier\n",
    "file_path = r\"C:\\Users\\HP\\Downloads\\movie\\IMDB Dataset.csv\"\n",
    "# Charger les données depuis le fichier CSV\n",
    "df = pd.read_csv(file_path)\n",
    "df.head()"
   ]
  },
  {
   "cell_type": "code",
   "execution_count": 18,
   "id": "7fe4a8c7",
   "metadata": {},
   "outputs": [
    {
     "data": {
      "text/html": [
       "<div>\n",
       "<style scoped>\n",
       "    .dataframe tbody tr th:only-of-type {\n",
       "        vertical-align: middle;\n",
       "    }\n",
       "\n",
       "    .dataframe tbody tr th {\n",
       "        vertical-align: top;\n",
       "    }\n",
       "\n",
       "    .dataframe thead th {\n",
       "        text-align: right;\n",
       "    }\n",
       "</style>\n",
       "<table border=\"1\" class=\"dataframe\">\n",
       "  <thead>\n",
       "    <tr style=\"text-align: right;\">\n",
       "      <th></th>\n",
       "      <th>review</th>\n",
       "      <th>label</th>\n",
       "    </tr>\n",
       "  </thead>\n",
       "  <tbody>\n",
       "    <tr>\n",
       "      <th>0</th>\n",
       "      <td>One of the other reviewers has mentioned that ...</td>\n",
       "      <td>1</td>\n",
       "    </tr>\n",
       "    <tr>\n",
       "      <th>1</th>\n",
       "      <td>A wonderful little production. &lt;br /&gt;&lt;br /&gt;The...</td>\n",
       "      <td>1</td>\n",
       "    </tr>\n",
       "    <tr>\n",
       "      <th>2</th>\n",
       "      <td>I thought this was a wonderful way to spend ti...</td>\n",
       "      <td>1</td>\n",
       "    </tr>\n",
       "    <tr>\n",
       "      <th>3</th>\n",
       "      <td>Basically there's a family where a little boy ...</td>\n",
       "      <td>0</td>\n",
       "    </tr>\n",
       "    <tr>\n",
       "      <th>4</th>\n",
       "      <td>Petter Mattei's \"Love in the Time of Money\" is...</td>\n",
       "      <td>1</td>\n",
       "    </tr>\n",
       "  </tbody>\n",
       "</table>\n",
       "</div>"
      ],
      "text/plain": [
       "                                              review  label\n",
       "0  One of the other reviewers has mentioned that ...      1\n",
       "1  A wonderful little production. <br /><br />The...      1\n",
       "2  I thought this was a wonderful way to spend ti...      1\n",
       "3  Basically there's a family where a little boy ...      0\n",
       "4  Petter Mattei's \"Love in the Time of Money\" is...      1"
      ]
     },
     "execution_count": 18,
     "metadata": {},
     "output_type": "execute_result"
    }
   ],
   "source": [
    "# Conversion des étiquettes en format numérique\n",
    "df['label'] = df['sentiment'].map({'positive': 1, 'negative': 0})\n",
    "df = df.drop(['sentiment'], axis=1) \n",
    "df.head()"
   ]
  },
  {
   "cell_type": "code",
   "execution_count": 19,
   "id": "2a787ed5",
   "metadata": {},
   "outputs": [],
   "source": [
    "# Séparer les données en ensembles d'entraînement et de test\n",
    "train_df, test_df = train_test_split(df, test_size=0.2, random_state=42)"
   ]
  },
  {
   "cell_type": "code",
   "execution_count": 20,
   "id": "70c4f7d3",
   "metadata": {},
   "outputs": [],
   "source": [
    "# Sélectionner un sous-ensemble aléatoire de N échantillons pour l'entraînement et le test\n",
    "N = 1000\n",
    "train_subset = train_df.sample(n=N, random_state=42)\n",
    "test_subset = test_df.sample(n=N, random_state=42)"
   ]
  },
  {
   "cell_type": "code",
   "execution_count": 21,
   "id": "f8df31fe",
   "metadata": {},
   "outputs": [],
   "source": [
    "# Créer les datasets Hugging Face\n",
    "train_dataset = Dataset.from_pandas(train_subset)\n",
    "test_dataset = Dataset.from_pandas(test_subset)"
   ]
  },
  {
   "cell_type": "code",
   "execution_count": 22,
   "id": "0dc98dbd",
   "metadata": {},
   "outputs": [
    {
     "data": {
      "text/plain": [
       "(Dataset({\n",
       "     features: ['review', 'label', '__index_level_0__'],\n",
       "     num_rows: 1000\n",
       " }),\n",
       " Dataset({\n",
       "     features: ['review', 'label', '__index_level_0__'],\n",
       "     num_rows: 1000\n",
       " }))"
      ]
     },
     "execution_count": 22,
     "metadata": {},
     "output_type": "execute_result"
    }
   ],
   "source": [
    "train_dataset, test_dataset"
   ]
  },
  {
   "cell_type": "markdown",
   "id": "8a617c2c",
   "metadata": {},
   "source": [
    "#####"
   ]
  },
  {
   "cell_type": "markdown",
   "id": "a1ca5862-5439-4c49-bb1a-2c1a0db9a681",
   "metadata": {},
   "source": [
    "#### **4. Modèle Classique (TF-IDF + Naive Bayes)**<br />\n",
    "\n",
    "&emsp;**4.1  Vectorisation des textes avec TF-IDF et Entraînement du modèle Naive Bayes**<br />\n",
    "\n",
    "&emsp;**4.1.1 Naive Bayes**"
   ]
  },
  {
   "cell_type": "markdown",
   "id": "820ea8b0",
   "metadata": {},
   "source": [
    "&emsp; Le **Naive Bayes** est un modèle probabiliste basé sur le **théorème de Bayes**, utilisé pour <br />\n",
    "&emsp; la classification. Il suppose que chaque mot d’un texte contribue indépendamment au sentiment <br />\n",
    "&emsp; global du document. <br />\n",
    "\n",
    "&emsp; **Principe**<br />\n",
    "&emsp; Pour une critique donnée 𝑥, le modèle calcule la probabilité que cette critique appartienne <br />\n",
    "&emsp; à une classe y∈{positif,négatif} <br />"
   ]
  },
  {
   "cell_type": "markdown",
   "id": "ce1880f2",
   "metadata": {},
   "source": [
    "&emsp;**4.2  Évaluation : précision, rappel, F1-score, matrice de confusion**<br />"
   ]
  },
  {
   "cell_type": "code",
   "execution_count": 23,
   "id": "51b8c549-fada-49e4-85c9-ee15270f7872",
   "metadata": {},
   "outputs": [
    {
     "name": "stdout",
     "output_type": "stream",
     "text": [
      "Résultats du modèle classique (TF-IDF + Naive Bayes) :\n",
      "              precision    recall  f1-score   support\n",
      "\n",
      "    negative       0.82      0.82      0.82       514\n",
      "    positive       0.81      0.80      0.81       486\n",
      "\n",
      "    accuracy                           0.81      1000\n",
      "   macro avg       0.81      0.81      0.81      1000\n",
      "weighted avg       0.81      0.81      0.81      1000\n",
      "\n",
      "Accuracy : 81.40%\n"
     ]
    },
    {
     "data": {
      "image/png": "[encoded data removed]",
      "text/plain": [
       "<Figure size 640x480 with 2 Axes>"
      ]
     },
     "metadata": {},
     "output_type": "display_data"
    }
   ],
   "source": [
    "from sklearn.metrics import classification_report, accuracy_score, ConfusionMatrixDisplay\n",
    "import matplotlib.pyplot as plt\n",
    "from sklearn.pipeline import make_pipeline\n",
    "from sklearn.feature_extraction.text import TfidfVectorizer\n",
    "from sklearn.naive_bayes import MultinomialNB\n",
    "\n",
    "# Construction du pipeline TF-IDF + Naive Bayes\n",
    "model_clf = make_pipeline(\n",
    "    TfidfVectorizer(max_features=5000, stop_words=\"english\"),\n",
    "    MultinomialNB()\n",
    ")\n",
    "\n",
    "# Entraînement du modèle\n",
    "model_clf.fit(train_dataset[\"review\"], train_dataset[\"label\"])\n",
    "\n",
    "# Prédictions sur le jeu de test\n",
    "y_pred = model_clf.predict(test_dataset[\"review\"])\n",
    "\n",
    "# Évaluation des performances\n",
    "print(\"Résultats du modèle classique (TF-IDF + Naive Bayes) :\")\n",
    "print(classification_report(test_dataset[\"label\"], y_pred, target_names=[\"negative\", \"positive\"]))\n",
    "\n",
    "# Accuracy globale\n",
    "acc = accuracy_score(test_dataset[\"label\"], y_pred)\n",
    "print(f\"Accuracy : {acc*100:.2f}%\")\n",
    "\n",
    "# Matrice de confusion\n",
    "ConfusionMatrixDisplay.from_predictions(\n",
    "    test_dataset[\"label\"],\n",
    "    y_pred,\n",
    "    display_labels=[\"negative\", \"positive\"],\n",
    "    cmap=\"Blues\"\n",
    ")\n",
    "plt.title(\"Matrice de confusion - TF-IDF + Naive Bayes\")\n",
    "plt.show()"
   ]
  },
  {
   "cell_type": "code",
   "execution_count": null,
   "id": "8b12e0dc",
   "metadata": {},
   "outputs": [
    {
     "data": {
      "image/png": "[encoded data removed]",
      "text/plain": [
       "<Figure size 800x600 with 1 Axes>"
      ]
     },
     "metadata": {},
     "output_type": "display_data"
    }
   ],
   "source": [
    "\n",
    "from sklearn.metrics import roc_curve, roc_auc_score\n",
    "import matplotlib.pyplot as plt\n",
    "\n",
    "# Prédiction des probabilités\n",
    "# y_probs_nb = model_clf.predict_proba(test_dataset)[:, 1]\n",
    "\n",
    "X_test = [x[\"review\"] for x in test_dataset]\n",
    "\n",
    "# Transformer les textes avec le modèle pipeline\n",
    "y_probs_nb = model_clf.predict_proba(X_test)[:, 1]\n",
    "\n",
    "\n",
    "# Ensuite, utilisez les vraies étiquettes pour le calcul de la courbe ROC\n",
    "y_true = [x[\"label\"] for x in test_dataset]  # à adapter si ce sont les vraies labels\n",
    "fpr_nb, tpr_nb, _ = roc_curve(y_true, y_probs_nb)\n",
    "auc_nb = roc_auc_score(y_true, y_probs_nb)\n",
    "\n",
    "# Tracé de la courbe ROC\n",
    "plt.figure(figsize=(4, 3))\n",
    "plt.plot(fpr_nb, tpr_nb, label=f\"Naive Bayes (AUC = {auc_nb:.2f})\", color='blue')\n",
    "plt.plot([0, 1], [0, 1], \"k--\")\n",
    "plt.xlabel(\"Taux de Faux Positifs\")\n",
    "plt.ylabel(\"Taux de Vrais Positifs\")\n",
    "plt.title(\"Courbe ROC - Naive Bayes\")\n",
    "plt.legend(loc=\"lower right\")\n",
    "plt.grid(True)\n",
    "plt.show()\n"
   ]
  },
  {
   "cell_type": "markdown",
   "id": "c206feb5-c976-4e54-b469-2ca930dddd35",
   "metadata": {},
   "source": [
    "#### &emsp;**4.3 Démo de prédictions**(Modèle TF-IDF + Naive Bayes)"
   ]
  },
  {
   "cell_type": "code",
   "execution_count": 25,
   "id": "53ec36d2-4d44-4604-9d89-c28df94ef67e",
   "metadata": {},
   "outputs": [
    {
     "name": "stdout",
     "output_type": "stream",
     "text": [
      "\n",
      " Démo : Prédictions sur des phrases d'exemple\n",
      "\n",
      " Modèle TF-IDF + Naive Bayes\n",
      "-------------------------------------\n",
      "'This movie was a masterpiece.' => positive\n",
      "'I was blown away by the acting.' => positive\n",
      "'It's a classic that everyone should watch.' => positive\n",
      "'The plot was confusing and hard to follow.' => negative\n",
      "'The special effects were top-notch.' => negative\n",
      "'I couldn't stop laughing throughout the movie.' => negative\n",
      "'The soundtrack was incredible.' => positive\n",
      "'It's a total waste of time.' => negative\n",
      "'I'm still thinking about that ending.' => negative\n",
      "'I wouldn't recommend it to anyone.' => positive\n"
     ]
    }
   ],
   "source": [
    "print(\"\\n Démo : Prédictions sur des phrases d'exemple\")\n",
    "\n",
    "Demo_phrases = [\n",
    "                \"This movie was a masterpiece.\",\n",
    "                \"I was blown away by the acting.\",\n",
    "                \"It's a classic that everyone should watch.\",\n",
    "                \"The plot was confusing and hard to follow.\",\n",
    "                \"The special effects were top-notch.\",\n",
    "                \"I couldn't stop laughing throughout the movie.\",\n",
    "                \"The soundtrack was incredible.\",\n",
    "                \"It's a total waste of time.\",\n",
    "                \"I'm still thinking about that ending.\",\n",
    "                \"I wouldn't recommend it to anyone.\"]\n",
    "\n",
    "print(\"\\n Modèle TF-IDF + Naive Bayes\")\n",
    "print(\"-------------------------------------\")\n",
    "for text in Demo_phrases:\n",
    "    pred = model_clf.predict([text])[0]\n",
    "    label = \"positive\" if pred == 1 else \"negative\"\n",
    "    print(f\"'{text}' => {label}\")"
   ]
  },
  {
   "cell_type": "markdown",
   "id": "43487f12",
   "metadata": {},
   "source": [
    "&emsp; **4.4 Forces/faiblesses de cette approche**\n",
    "\n",
    "- **Forces**<br />\n",
    "&emsp; - Simplicité et rapidité<br />\n",
    "&emsp; - Faible consommation de ressources<br />\n",
    "&emsp; - Interprétabilité: Facile de comprendre pourquoi un mot contribue à <br />\n",
    "&emsp;   une prédiction (via les poids TF-IDF ou les probabilités conditionnelles) <br />\n",
    "&emsp; - Bonnes performances sur les données équilibrées et propres :<br />\n",
    "&emsp;   Pour des tâches simples comme la classification binaire sur des critiques bien <br />\n",
    "&emsp;   nettoyées, les résultats sont souvent très corrects.<br />\n",
    "\n",
    "- **Faiblesses**<br />\n",
    "&emsp; - *Ignorance du contexte* : Le modèle ne comprend pas la structure grammaticale ni le sens<br />\n",
    "&emsp; global des phrases. Par exemple, il ne fait pas la différence entre \"not good\" et \"good\"<br />\n",
    "&emsp; si \"not\" est ignoré ou mal pondéré.<br />\n",
    "&emsp; - *Pas de prise en compte de l’ordre des mots* : Les modèles TF-IDF se basent sur la fréquence<br />\n",
    "&emsp; des mots, sans tenir compte de leur position dans la phrase.<br />\n",
    "&emsp; - *Performances limitées sur des textes ambigus ou ironiques* :<br />\n",
    "&emsp; Les subtilités du langage (sarcasme, humour, double sens) sont perdues.<br />"
   ]
  },
  {
   "cell_type": "markdown",
   "id": "a5200153-ff10-4cde-84b3-5bccc3d3cefc",
   "metadata": {},
   "source": [
    "##"
   ]
  },
  {
   "cell_type": "markdown",
   "id": "adf1cfe9-e4cb-4f30-9c31-943557ab5a5a",
   "metadata": {},
   "source": [
    "#### **5. Finetuning complet: Modèle DistilBERT**<br />\n",
    "##### &emsp;5.1 Présentation de DistilBERT"
   ]
  },
  {
   "cell_type": "markdown",
   "id": "21faed7a",
   "metadata": {},
   "source": [
    "&emsp;**DistilBERT** est un modèle de langage développé par la société Hugging Face. <br />\n",
    "&emsp;Il s’agit d’une version allégée et plus rapide de BERT (Bidirectional Encoder <br />\n",
    "&emsp;Representations from Transformers), tout en conservant des performances proches <br />\n",
    "&emsp;de l’original.<br />\n",
    "\n",
    "&emsp; **Objectif**<br />\n",
    "&emsp;DistilBERT a été conçu pour réduire les coûts de calcul liés à l’utilisation de BERT, <br />\n",
    "&emsp;sans sacrifier significativement la qualité des prédictions.<br />\n",
    "\n",
    "&emsp; **Caracteristique** <br />\n",
    "&emsp; - reduction du nombre de paramètre(Bert: 100 parametres alors que Distibert: 66 parametres) <br />\n",
    "\n",
    "&emsp;DistilBERT est entraîné à l’aide d’une technique appelée **distillation de connaissances**, <br />\n",
    "&emsp;où un grand modèle (le professeur, ici BERT) transmet son savoir à un plus petit modèle <br />\n",
    "&emsp;(le student, ici DistilBERT).<br />\n"
   ]
  },
  {
   "cell_type": "markdown",
   "id": "0a2495ef-0aa6-4208-bbbc-74939756e4b9",
   "metadata": {},
   "source": [
    "##### &emsp; 5.2 Référence de la technique </br>\n",
    "&emsp;Ce notebook implémente le fine-tuning du **Modèle DistilBERT**,</br>\n",
    "&emsp;une version compressée de BERT (Sanh et al., 2019). Ce modèle est 40% plus léger et 60% plus,</br>\n",
    "&emsp;rapide tout en conservant 97% des performances de BERT, ce qui en fait une alternative idéale</br>\n",
    "&emsp;pour des déploiements légers en NLP.\n",
    "\n",
    "- **Article** : DistilBERT, a distilled version of BERT: smaller, faster, cheaper and lighter</br>\n",
    "- **Source** : [arXiv:1910.01108](https://arxiv.org/abs/1910.01108)"
   ]
  },
  {
   "cell_type": "code",
   "execution_count": 26,
   "id": "5f1ad489",
   "metadata": {},
   "outputs": [
    {
     "name": "stdout",
     "output_type": "stream",
     "text": [
      "WARNING:tensorflow:From c:\\Users\\HP\\Documents\\Projet 8\\P8_Dashboard\\env_dashboard\\Lib\\site-packages\\tf_keras\\src\\losses.py:2976: The name tf.losses.sparse_softmax_cross_entropy is deprecated. Please use tf.compat.v1.losses.sparse_softmax_cross_entropy instead.\n",
      "\n"
     ]
    }
   ],
   "source": [
    "import torch\n",
    "# Importe PyTorch, une bibliothèque pour les réseaux de neurones profonds et l'apprentissage automatique.\n",
    "\n",
    "from datasets import Dataset, DatasetDict\n",
    "# Importe 'Dataset' et 'DatasetDict' de la bibliothèque 'datasets' de Hugging Face, utilisés pour gérer et préparer des ensembles de données pour l'entraînement de modèles.\n",
    "\n",
    "from transformers import DistilBertTokenizer, DistilBertForSequenceClassification, TrainingArguments, Trainer\n",
    "# Importe plusieurs classes de la bibliothèque 'transformers' de Hugging Face:\n",
    "# - DistilBertTokenizer : pour convertir du texte en tokens compréhensibles par DistilBERT.\n",
    "# - DistilBertForSequenceClassification : une version de DistilBERT préparée pour la classification de séquences (par exemple, classification de texte).\n",
    "# - TrainingArguments : pour configurer les paramètres d'entraînement.\n",
    "# - Trainer : pour orchestrer le processus d'entraînement du modèle.\n",
    "\n",
    "import torch.optim as optim\n",
    "# Importe le sous-module 'optim' de PyTorch, qui contient divers algorithmes d'optimisation utilisés pour mettre à jour les poids du réseau pendant l'entraînement, tels que SGD, Adam, etc."
   ]
  },
  {
   "cell_type": "markdown",
   "id": "4a5c184a",
   "metadata": {},
   "source": [
    "&emsp; 5.3 Entraînement et réglage des hyperparamètres"
   ]
  },
  {
   "cell_type": "code",
   "execution_count": 27,
   "id": "4787ae84",
   "metadata": {},
   "outputs": [],
   "source": [
    "# Paramètres d'entraînement\n",
    "model_checkpoint = \"distilbert-base-uncased\"  # Modèle distilbert pré-entraîné\n",
    "lr = 2e-5  # Taux d'apprentissage\n",
    "batch_size = 8  # Taille du lot\n",
    "num_epochs = 3  # Nombre d'époques"
   ]
  },
  {
   "cell_type": "markdown",
   "id": "1e0ddff9",
   "metadata": {},
   "source": [
    "Dans le domaine du traitement du langage naturel (NLP), le \"padding\" joue un rôle crucial dans la préparation des données pour l'entraînement de modèles. Voici quelques détails clés :\n",
    "\n",
    "Concept de Padding en NLP\n",
    "Uniformité des Longueurs de Séquences : Les modèles de NLP, en particulier ceux basés sur des réseaux de neurones, nécessitent que toutes les entrées (phrases, paragraphes, etc.) dans un lot de données (batch) aient la même longueur pour un traitement efficace. Cependant, dans la réalité, les séquences de mots varient en longueur.\n",
    "Ajout de Valeurs de Remplissage : Pour résoudre ce problème, le padding est utilisé pour \"remplir\" les séquences plus courtes avec des valeurs neutres (souvent des zéros ou un token spécifique) pour qu'elles correspondent à la longueur de la séquence la plus longue dans le lot."
   ]
  },
  {
   "cell_type": "code",
   "execution_count": 28,
   "id": "877e4531",
   "metadata": {},
   "outputs": [],
   "source": [
    "# Charger le tokenizer et le modèle pré-entraîné\n",
    "tokenizer = DistilBertTokenizer.from_pretrained(\"distilbert-base-uncased\")\n",
    "train_encodings = tokenizer(train_dataset['review'], truncation=True, padding=True, return_tensors='pt')\n",
    "test_encodings = tokenizer(test_dataset['review'], truncation=True, padding=True, return_tensors='pt')"
   ]
  },
  {
   "cell_type": "code",
   "execution_count": 29,
   "id": "bad96157",
   "metadata": {},
   "outputs": [],
   "source": [
    "# Étape 2 : Création des datasets PyTorch\n",
    "# Étape 2 : Création des datasets PyTorch\n",
    "train_datasetb = Dataset.from_dict({\n",
    "    # 'input_ids' : Contient les identifiants de tokens obtenus après le processus de tokenisation du texte. \n",
    "    # Ces identifiants sont nécessaires pour que le modèle comprenne et traite le texte.\n",
    "    'input_ids': train_encodings['input_ids'],\n",
    "\n",
    "    # 'attention_mask' : Un masque d'attention qui indique au modèle quels tokens dans 'input_ids' sont significatifs \n",
    "    # (c'est-à-dire non-padding) et doivent être pris en compte lors du traitement.\n",
    "    'attention_mask': train_encodings['attention_mask'],\n",
    "\n",
    "    # 'labels' : Les étiquettes associées à chaque exemple d'entraînement. Ces étiquettes sont utilisées pour l'apprentissage supervisé,\n",
    "    # où le modèle apprend à associer les entrées à ces étiquettes correctes.\n",
    "    # 'torch.tensor()' est utilisé pour convertir la liste des étiquettes en tensor PyTorch, \n",
    "    # ce qui est nécessaire pour le traitement avec PyTorch.\n",
    "    'labels': torch.tensor(train_dataset['label'])\n",
    "})\n",
    "\n",
    "test_datasetb = Dataset.from_dict({\n",
    "    'input_ids': test_encodings['input_ids'],\n",
    "    'attention_mask': test_encodings['attention_mask'],\n",
    "    'labels': torch.tensor(test_dataset['label'])\n",
    "})\n",
    "\n",
    "# Création d'un DatasetDict\n",
    "datasetb = DatasetDict({\n",
    "    'train': train_datasetb,\n",
    "    'test': test_datasetb\n",
    "})"
   ]
  },
  {
   "cell_type": "code",
   "execution_count": 30,
   "id": "307d5fab",
   "metadata": {},
   "outputs": [
    {
     "name": "stderr",
     "output_type": "stream",
     "text": [
      "Some weights of DistilBertForSequenceClassification were not initialized from the model checkpoint at distilbert-base-uncased and are newly initialized: ['classifier.bias', 'classifier.weight', 'pre_classifier.bias', 'pre_classifier.weight']\n",
      "You should probably TRAIN this model on a down-stream task to be able to use it for predictions and inference.\n"
     ]
    }
   ],
   "source": [
    "# Création d'un modèle de classification de séquences basé sur DistilBERT\n",
    "model = DistilBertForSequenceClassification.from_pretrained(\"distilbert-base-uncased\", num_labels=2)"
   ]
  },
  {
   "cell_type": "code",
   "execution_count": 31,
   "id": "634e17b6",
   "metadata": {},
   "outputs": [
    {
     "name": "stdout",
     "output_type": "stream",
     "text": [
      "Nombre de paramètres du modèle : 66955010\n",
      "DistilBertForSequenceClassification(\n",
      "  (distilbert): DistilBertModel(\n",
      "    (embeddings): Embeddings(\n",
      "      (word_embeddings): Embedding(30522, 768, padding_idx=0)\n",
      "      (position_embeddings): Embedding(512, 768)\n",
      "      (LayerNorm): LayerNorm((768,), eps=1e-12, elementwise_affine=True)\n",
      "      (dropout): Dropout(p=0.1, inplace=False)\n",
      "    )\n",
      "    (transformer): Transformer(\n",
      "      (layer): ModuleList(\n",
      "        (0-5): 6 x TransformerBlock(\n",
      "          (attention): DistilBertSdpaAttention(\n",
      "            (dropout): Dropout(p=0.1, inplace=False)\n",
      "            (q_lin): Linear(in_features=768, out_features=768, bias=True)\n",
      "            (k_lin): Linear(in_features=768, out_features=768, bias=True)\n",
      "            (v_lin): Linear(in_features=768, out_features=768, bias=True)\n",
      "            (out_lin): Linear(in_features=768, out_features=768, bias=True)\n",
      "          )\n",
      "          (sa_layer_norm): LayerNorm((768,), eps=1e-12, elementwise_affine=True)\n",
      "          (ffn): FFN(\n",
      "            (dropout): Dropout(p=0.1, inplace=False)\n",
      "            (lin1): Linear(in_features=768, out_features=3072, bias=True)\n",
      "            (lin2): Linear(in_features=3072, out_features=768, bias=True)\n",
      "            (activation): GELUActivation()\n",
      "          )\n",
      "          (output_layer_norm): LayerNorm((768,), eps=1e-12, elementwise_affine=True)\n",
      "        )\n",
      "      )\n",
      "    )\n",
      "  )\n",
      "  (pre_classifier): Linear(in_features=768, out_features=768, bias=True)\n",
      "  (classifier): Linear(in_features=768, out_features=2, bias=True)\n",
      "  (dropout): Dropout(p=0.2, inplace=False)\n",
      ")\n"
     ]
    }
   ],
   "source": [
    "# Affichage du nombre de paramètres du modèle\n",
    "num_params = sum(p.numel() for p in model.parameters())\n",
    "print(f\"Nombre de paramètres du modèle : {num_params}\")\n",
    "# Afficher l'architecture du modèle BERT\n",
    "print(model)"
   ]
  },
  {
   "cell_type": "code",
   "execution_count": 32,
   "id": "9fd39bb5",
   "metadata": {},
   "outputs": [],
   "source": [
    "# Étape 4 : Définition des paramètres d'entraînement\n",
    "# Configuration de l'optimiseur pour l'entraînement du modèle\n",
    "optimizer = optim.AdamW(model.parameters(), lr=lr)\n",
    "# Définition de la fonction de perte pour l'entraînement du modèle\n",
    "loss_fn = torch.nn.CrossEntropyLoss()"
   ]
  },
  {
   "cell_type": "markdown",
   "id": "249a4352-c7b9-48a8-97ea-c128ec03dcbb",
   "metadata": {},
   "source": [
    "##### &emsp; 5.3 Évaluation : précision, rappel, F1-score, matrice de confusion"
   ]
  },
  {
   "cell_type": "code",
   "execution_count": 33,
   "id": "6de05ad2-bcf7-4d67-9cf3-42b90d0b72b2",
   "metadata": {},
   "outputs": [],
   "source": [
    "from sklearn.metrics import accuracy_score, precision_recall_fscore_support\n",
    "import numpy as np\n",
    "\n",
    "def compute_metrics(eval_pred):\n",
    "    logits, labels = eval_pred\n",
    "    preds = np.argmax(logits, axis=1)\n",
    "    precision, recall, f1, _ = precision_recall_fscore_support(labels, preds, average='weighted')\n",
    "    acc = accuracy_score(labels, preds)\n",
    "    return {\n",
    "        'accuracy': acc,\n",
    "        'f1': f1,\n",
    "        'precision': precision,\n",
    "        'recall': recall\n",
    "    }"
   ]
  },
  {
   "cell_type": "code",
   "execution_count": 34,
   "id": "888eee64",
   "metadata": {},
   "outputs": [],
   "source": [
    "# Définir la correspondance entre les identifiants de classe et les étiquettes\n",
    "id2label = {0: \"Négatif\", 1: \"Positif\"}\n",
    "label2id = {\"Négatif\": 0, \"Positif\": 1}"
   ]
  },
  {
   "cell_type": "code",
   "execution_count": 35,
   "id": "8d721148",
   "metadata": {},
   "outputs": [
    {
     "name": "stdout",
     "output_type": "stream",
     "text": [
      "Prédictions du modèle non entraîné:\n",
      "-------------------------------------\n",
      "This movie was a masterpiece. - Négatif\n",
      "I was blown away by the acting. - Négatif\n",
      "It's a classic that everyone should watch. - Négatif\n",
      "The plot was confusing and hard to follow. - Négatif\n",
      "The special effects were top-notch. - Négatif\n",
      "I couldn't stop laughing throughout the movie. - Négatif\n",
      "The soundtrack was incredible. - Négatif\n",
      "It's a total waste of time. - Négatif\n",
      "I'm still thinking about that ending. - Positif\n",
      "I wouldn't recommend it to anyone. - Négatif\n"
     ]
    }
   ],
   "source": [
    "\n",
    "liste_texte = [\n",
    "    \"This movie was a masterpiece.\",\n",
    "    \"I was blown away by the acting.\",\n",
    "    \"It's a classic that everyone should watch.\",\n",
    "    \"The plot was confusing and hard to follow.\",\n",
    "    \"The special effects were top-notch.\",\n",
    "    \"I couldn't stop laughing throughout the movie.\",\n",
    "    \"The soundtrack was incredible.\",\n",
    "    \"It's a total waste of time.\",\n",
    "    \"I'm still thinking about that ending.\",\n",
    "    \"I wouldn't recommend it to anyone.\"\n",
    "]\n",
    "\n",
    "print(\"Prédictions du modèle non entraîné:\")\n",
    "print(\"-------------------------------------\")\n",
    "for texte in liste_texte:\n",
    "    # Tokenizer le texte\n",
    "    inputs = tokenizer.encode(texte, return_tensors=\"pt\")\n",
    "    # Calculer les logits\n",
    "    logits = model(inputs).logits\n",
    "    # Convertir les logits en étiquette\n",
    "    predictions = torch.argmax(logits)\n",
    "\n",
    "    print(texte + \" - \" + id2label[predictions.tolist()])"
   ]
  },
  {
   "cell_type": "markdown",
   "id": "a28acdeb-7c1a-4a93-97b6-9441bb70a7f8",
   "metadata": {},
   "source": [
    "######"
   ]
  },
  {
   "cell_type": "code",
   "execution_count": 36,
   "id": "94e1c15e",
   "metadata": {},
   "outputs": [
    {
     "name": "stderr",
     "output_type": "stream",
     "text": [
      "c:\\Users\\HP\\Documents\\Projet 8\\P8_Dashboard\\env_dashboard\\Lib\\site-packages\\transformers\\training_args.py:1611: FutureWarning: `evaluation_strategy` is deprecated and will be removed in version 4.46 of 🤗 Transformers. Use `eval_strategy` instead\n",
      "  warnings.warn(\n"
     ]
    }
   ],
   "source": [
    "# Définition des arguments d'entraînement avec Transformers\n",
    "training_args = TrainingArguments(\n",
    "    output_dir=model_checkpoint + \"-fullfinetuned-text-classification\",  # Le répertoire où les résultats de l'entraînement seront sauvegardés\n",
    "    learning_rate=lr,  # Taux d'apprentissage pour l'optimisation du modèle\n",
    "    per_device_train_batch_size=batch_size,  # Taille du lot d'entraînement par périphérique (GPU ou CPU)\n",
    "    per_device_eval_batch_size=batch_size,  # Taille du lot d'évaluation par périphérique (GPU ou CPU)\n",
    "    num_train_epochs=num_epochs,  # Nombre d'époques d'entraînement (combien de fois le modèle parcourt l'ensemble de données)\n",
    "    weight_decay=0.01,  # Terme de régularisation pour contrôler le poids de la pénalisation dans la fonction de perte\n",
    "    evaluation_strategy=\"epoch\",  # Stratégie d'évaluation, ici \"epoch\" signifie évaluer à la fin de chaque époque\n",
    "    save_strategy=\"epoch\",  # Stratégie de sauvegarde du modèle, ici \"epoch\" signifie sauvegarder le modèle à la fin de chaque époque\n",
    "    load_best_model_at_end=True  # Charger le meilleur modèle à la fin de l'entraînement\n",
    ")"
   ]
  },
  {
   "cell_type": "code",
   "execution_count": 37,
   "id": "b680bc82",
   "metadata": {},
   "outputs": [],
   "source": [
    "# Entraînement du modèle avec Trainer de Transformers\n",
    "trainerfull = Trainer(\n",
    "    model=model,\n",
    "    args=training_args,\n",
    "    train_dataset=datasetb['train'],\n",
    "    eval_dataset=datasetb['test'],\n",
    "    compute_metrics=compute_metrics  # Utiliser la fonction de calcul des métriques\n",
    ")"
   ]
  },
  {
   "cell_type": "code",
   "execution_count": 38,
   "id": "86c0519b",
   "metadata": {
    "scrolled": true
   },
   "outputs": [
    {
     "data": {
      "text/html": [
       "\n",
       "    <div>\n",
       "      \n",
       "      <progress value='375' max='375' style='width:300px; height:20px; vertical-align: middle;'></progress>\n",
       "      [375/375 2:06:08, Epoch 3/3]\n",
       "    </div>\n",
       "    <table border=\"1\" class=\"dataframe\">\n",
       "  <thead>\n",
       " <tr style=\"text-align: left;\">\n",
       "      <th>Epoch</th>\n",
       "      <th>Training Loss</th>\n",
       "      <th>Validation Loss</th>\n",
       "      <th>Accuracy</th>\n",
       "      <th>F1</th>\n",
       "      <th>Precision</th>\n",
       "      <th>Recall</th>\n",
       "    </tr>\n",
       "  </thead>\n",
       "  <tbody>\n",
       "    <tr>\n",
       "      <td>1</td>\n",
       "      <td>No log</td>\n",
       "      <td>0.302917</td>\n",
       "      <td>0.889000</td>\n",
       "      <td>0.888886</td>\n",
       "      <td>0.889558</td>\n",
       "      <td>0.889000</td>\n",
       "    </tr>\n",
       "    <tr>\n",
       "      <td>2</td>\n",
       "      <td>No log</td>\n",
       "      <td>0.422887</td>\n",
       "      <td>0.875000</td>\n",
       "      <td>0.874460</td>\n",
       "      <td>0.878913</td>\n",
       "      <td>0.875000</td>\n",
       "    </tr>\n",
       "    <tr>\n",
       "      <td>3</td>\n",
       "      <td>No log</td>\n",
       "      <td>0.385511</td>\n",
       "      <td>0.896000</td>\n",
       "      <td>0.896010</td>\n",
       "      <td>0.897053</td>\n",
       "      <td>0.896000</td>\n",
       "    </tr>\n",
       "  </tbody>\n",
       "</table><p>"
      ],
      "text/plain": [
       "<IPython.core.display.HTML object>"
      ]
     },
     "metadata": {},
     "output_type": "display_data"
    },
    {
     "data": {
      "text/plain": [
       "TrainOutput(global_step=375, training_loss=0.2620825602213542, metrics={'train_runtime': 7579.2776, 'train_samples_per_second': 0.396, 'train_steps_per_second': 0.049, 'total_flos': 397402195968000.0, 'train_loss': 0.2620825602213542, 'epoch': 3.0})"
      ]
     },
     "execution_count": 38,
     "metadata": {},
     "output_type": "execute_result"
    }
   ],
   "source": [
    "# Entraînement du modèle\n",
    "trainerfull.train()"
   ]
  },
  {
   "cell_type": "code",
   "execution_count": 39,
   "id": "fabbc734",
   "metadata": {},
   "outputs": [],
   "source": [
    "# Sauvegarde du modèle\n",
    "trainerfull.save_model(\"trainer_full\")"
   ]
  },
  {
   "cell_type": "code",
   "execution_count": 40,
   "id": "10e7cdc7-34aa-4f4d-b80b-9fc2f0e55188",
   "metadata": {},
   "outputs": [
    {
     "data": {
      "text/plain": [
       "DistilBertForSequenceClassification(\n",
       "  (distilbert): DistilBertModel(\n",
       "    (embeddings): Embeddings(\n",
       "      (word_embeddings): Embedding(30522, 768, padding_idx=0)\n",
       "      (position_embeddings): Embedding(512, 768)\n",
       "      (LayerNorm): LayerNorm((768,), eps=1e-12, elementwise_affine=True)\n",
       "      (dropout): Dropout(p=0.1, inplace=False)\n",
       "    )\n",
       "    (transformer): Transformer(\n",
       "      (layer): ModuleList(\n",
       "        (0-5): 6 x TransformerBlock(\n",
       "          (attention): DistilBertSdpaAttention(\n",
       "            (dropout): Dropout(p=0.1, inplace=False)\n",
       "            (q_lin): Linear(in_features=768, out_features=768, bias=True)\n",
       "            (k_lin): Linear(in_features=768, out_features=768, bias=True)\n",
       "            (v_lin): Linear(in_features=768, out_features=768, bias=True)\n",
       "            (out_lin): Linear(in_features=768, out_features=768, bias=True)\n",
       "          )\n",
       "          (sa_layer_norm): LayerNorm((768,), eps=1e-12, elementwise_affine=True)\n",
       "          (ffn): FFN(\n",
       "            (dropout): Dropout(p=0.1, inplace=False)\n",
       "            (lin1): Linear(in_features=768, out_features=3072, bias=True)\n",
       "            (lin2): Linear(in_features=3072, out_features=768, bias=True)\n",
       "            (activation): GELUActivation()\n",
       "          )\n",
       "          (output_layer_norm): LayerNorm((768,), eps=1e-12, elementwise_affine=True)\n",
       "        )\n",
       "      )\n",
       "    )\n",
       "  )\n",
       "  (pre_classifier): Linear(in_features=768, out_features=768, bias=True)\n",
       "  (classifier): Linear(in_features=768, out_features=2, bias=True)\n",
       "  (dropout): Dropout(p=0.2, inplace=False)\n",
       ")"
      ]
     },
     "execution_count": 40,
     "metadata": {},
     "output_type": "execute_result"
    }
   ],
   "source": [
    "import torch\n",
    "\n",
    "# Choisir le bon device automatiquement\n",
    "device = torch.device('cuda' if torch.cuda.is_available() else 'cpu')\n",
    "model.to(device)"
   ]
  },
  {
   "cell_type": "code",
   "execution_count": 41,
   "id": "e65f4d18",
   "metadata": {},
   "outputs": [
    {
     "data": {
      "text/html": [],
      "text/plain": [
       "<IPython.core.display.HTML object>"
      ]
     },
     "metadata": {},
     "output_type": "display_data"
    },
    {
     "data": {
      "image/png": "[encoded data removed]",
      "text/plain": [
       "<Figure size 800x600 with 1 Axes>"
      ]
     },
     "metadata": {},
     "output_type": "display_data"
    }
   ],
   "source": [
    "\n",
    "from sklearn.metrics import roc_curve, roc_auc_score\n",
    "\n",
    "# Prédictions du modèle fine-tuné\n",
    "predictions = trainerfull.predict(test_datasetb)\n",
    "y_probs_bert = predictions.predictions[:, 1]\n",
    "y_true_bert = predictions.label_ids\n",
    "\n",
    "# Calcul ROC et AUC\n",
    "fpr_bert, tpr_bert, _ = roc_curve(y_true_bert, y_probs_bert)\n",
    "auc_bert = roc_auc_score(y_true_bert, y_probs_bert)\n",
    "\n",
    "# Tracé de la courbe ROC\n",
    "plt.figure(figsize=(8, 6))\n",
    "plt.plot(fpr_bert, tpr_bert, label=f\"DistilBERT (AUC = {auc_bert:.2f})\", color='green')\n",
    "plt.plot([0, 1], [0, 1], \"k--\")\n",
    "plt.xlabel(\"Taux de Faux Positifs\")\n",
    "plt.ylabel(\"Taux de Vrais Positifs\")\n",
    "plt.title(\"Courbe ROC - DistilBERT\")\n",
    "plt.legend(loc=\"lower right\")\n",
    "plt.grid(True)\n",
    "plt.show()\n"
   ]
  },
  {
   "cell_type": "markdown",
   "id": "8b532145-991f-4d79-8941-6c0dade29338",
   "metadata": {},
   "source": [
    "##### **5.4 Demo: Prédictions du modèle entraîné(distilbert)** "
   ]
  },
  {
   "cell_type": "code",
   "execution_count": 42,
   "id": "f3949a51",
   "metadata": {},
   "outputs": [
    {
     "name": "stdout",
     "output_type": "stream",
     "text": [
      "Prédictions du modèle entraîné distilbert:\n",
      "---------------------------------\n",
      "This movie was a masterpiece. - Positif\n",
      "I was blown away by the acting. - Négatif\n",
      "It's a classic that everyone should watch. - Positif\n",
      "The plot was confusing and hard to follow. - Négatif\n",
      "The special effects were top-notch. - Positif\n",
      "I couldn't stop laughing throughout the movie. - Négatif\n",
      "The soundtrack was incredible. - Positif\n",
      "It's a total waste of time. - Négatif\n",
      "I'm still thinking about that ending. - Négatif\n",
      "I wouldn't recommend it to anyone. - Négatif\n"
     ]
    }
   ],
   "source": [
    "# Afficher les prédictions du modèle entraîné\n",
    "print(\"Prédictions du modèle entraîné distilbert:\")\n",
    "print(\"---------------------------------\")\n",
    "\n",
    "# Parcourir la liste des textes à prédire\n",
    "for texte in liste_texte:\n",
    "    # Tokenizer le texte et l'envoyer sur le même device que le modèle\n",
    "    inputs = tokenizer.encode(texte, return_tensors=\"pt\").to(device)\n",
    "    # Obtenir les logits du modèle pour le texte\n",
    "    logits = model(inputs).logits\n",
    "    # Prédire la classe en choisissant l'indice du logit le plus élevé\n",
    "    predictions = torch.max(logits, 1).indices\n",
    "    # Afficher le texte et l'étiquette prédite\n",
    "    print(texte + \" - \" + id2label[predictions.tolist()[0]])\n"
   ]
  },
  {
   "cell_type": "markdown",
   "id": "82ea0265-01af-477c-a29d-87c60a415e4b",
   "metadata": {},
   "source": [
    "#####"
   ]
  },
  {
   "cell_type": "markdown",
   "id": "4dc44d6b-eae6-4165-9ee1-33f7c3a31abf",
   "metadata": {},
   "source": [
    "### **6. Comparaison visuelle des performances : Baseline vs DistilBERT**"
   ]
  },
  {
   "cell_type": "markdown",
   "id": "2f45c99e",
   "metadata": {},
   "source": [
    "&emsp; **6.1 Résultats  de  l'évaluation des metrics**<br />"
   ]
  },
  {
   "cell_type": "code",
   "execution_count": 43,
   "id": "b1304fa5-f93a-4c13-8163-428fe53fc3c8",
   "metadata": {},
   "outputs": [
    {
     "data": {
      "image/png": "[encoded data removed]",
      "text/plain": [
       "<Figure size 600x500 with 1 Axes>"
      ]
     },
     "metadata": {},
     "output_type": "display_data"
    }
   ],
   "source": [
    "# Résultats à partir des évaluations précédentes\n",
    "baseline_metrics = {\"Accuracy\": 0.81, \"F1-score\": 0.81}\n",
    "distilbert_metrics = {\"Accuracy\": 0.90, \"F1-score\": 0.90}\n",
    "\n",
    "import matplotlib.pyplot as plt\n",
    "\n",
    "labels = list(baseline_metrics.keys())\n",
    "baseline_values = list(baseline_metrics.values())\n",
    "distilbert_values = list(distilbert_metrics.values())\n",
    "\n",
    "x = range(len(labels))\n",
    "\n",
    "plt.figure(figsize=(6, 5))\n",
    "plt.bar([i - 0.2 for i in x], baseline_values, width=0.4, label='TF-IDF + Naive Bayes', color='skyblue')\n",
    "plt.bar([i + 0.2 for i in x], distilbert_values, width=0.4, label='DistilBERT Fine-tuned', color='lightgreen')\n",
    "plt.xticks(ticks=x, labels=labels)\n",
    "plt.ylim(0.6, 1.0)\n",
    "plt.title(\"Comparaison des modèles sur les métriques principales\")\n",
    "plt.ylabel(\"Score\")\n",
    "plt.legend()\n",
    "plt.grid(axis='y', linestyle='--', alpha=0.7)\n",
    "plt.tight_layout()\n",
    "plt.show()"
   ]
  },
  {
   "cell_type": "markdown",
   "id": "9191185c-9937-4b41-b3e8-ed2645a9aaff",
   "metadata": {},
   "source": [
    "#####"
   ]
  },
  {
   "cell_type": "markdown",
   "id": "3644c68d-9adf-48a4-90a2-8fd89555a302",
   "metadata": {},
   "source": [
    "### **7. Fine-tuning LoRA**"
   ]
  },
  {
   "cell_type": "markdown",
   "id": "04a9a24f-0c04-4cbc-a88e-1f17a7cd6bc5",
   "metadata": {},
   "source": [
    "#### **Référence de la technique : LoRA Fine-Tuning**"
   ]
  },
  {
   "cell_type": "markdown",
   "id": "5dd1f785-717a-4b97-944f-a6387753a324",
   "metadata": {},
   "source": [
    "- **Référence de la technique**\n",
    "Ce notebook implémente également le fine-tuning avec LoRA (Low-Rank Adaptation), une technique</br> \n",
    "récente et efficace de fine-tuning léger pour les modèles de langage de grande taille.</br>\n",
    "\n",
    "LoRA fige les poids du modèle pré-entraîné et introduit des adaptateurs de faible rang \n",
    "(low-rank matrices) pour ajuster le comportement du modèle sans le réentraîner entièrement. Cela permet :</br>\n",
    "\n",
    "Une réduction drastique des paramètres à entraîner</br>\n",
    "\n",
    "Une vitesse d'entraînement accélérée</br>\n",
    "\n",
    "Une meilleure portabilité vers des environnements à ressources limitées</br>\n",
    "\n",
    "Article : LoRA: Low-Rank Adaptation of Large Language Models</br>\n",
    "Auteurs : Edward Hu, Yelong Shen, Phillip Wallis, Zeyuan Allen-Zhu, et al.</br>\n",
    "- Publication : 2021 </br>\n",
    "- <a href=\"https://arxiv.org/abs/2106.09685\">arxiv_LoRa</a>"
   ]
  },
  {
   "cell_type": "code",
   "execution_count": 44,
   "id": "f5f4758e",
   "metadata": {},
   "outputs": [],
   "source": [
    "# Importation des outils spécifiques aux modèles transformers\n",
    "from transformers import (\n",
    "    AutoTokenizer,  # Pour le tokenizing des textes\n",
    "    AutoModelForSequenceClassification,  # Pour charger un modèle pré-entraîné pour la classification de séquences\n",
    "    TrainingArguments,  # Pour définir les paramètres d'entraînement\n",
    "    Trainer,  # Pour entraîner le modèle\n",
    "    DataCollatorWithPadding  # Pour gérer le padding des séquences lors de l'entraînement\n",
    ")\n",
    "# Importation des bibliothèques pour le fine-tuning avec PEFT (Parameter-Efficient Fine-tuning)\n",
    "from peft import PeftModel, PeftConfig, get_peft_model, LoraConfig"
   ]
  },
  {
   "cell_type": "code",
   "execution_count": 45,
   "id": "a60dd1fe-8144-4678-b018-20891e49237a",
   "metadata": {},
   "outputs": [
    {
     "name": "stderr",
     "output_type": "stream",
     "text": [
      "Some weights of DistilBertForSequenceClassification were not initialized from the model checkpoint at distilbert-base-uncased and are newly initialized: ['classifier.bias', 'classifier.weight', 'pre_classifier.bias', 'pre_classifier.weight']\n",
      "You should probably TRAIN this model on a down-stream task to be able to use it for predictions and inference.\n"
     ]
    }
   ],
   "source": [
    "# Définir le modèle que vous souhaitez utiliser pour la classification de séquences. Vous pouvez choisir un modèle pré-entraîné, comme 'distilbert-base-uncased' ou 'roberta-base'.\n",
    "model_checkpoint = 'distilbert-base-uncased'\n",
    "# Générer un modèle de classification à partir du modèle pré-entraîné\n",
    "model = AutoModelForSequenceClassification.from_pretrained(\n",
    "    model_checkpoint, num_labels=2, id2label=id2label, label2id=label2id)"
   ]
  },
  {
   "cell_type": "code",
   "execution_count": 46,
   "id": "853002f8-d39c-4bc4-8d07-e44a47de3b47",
   "metadata": {},
   "outputs": [
    {
     "data": {
      "text/plain": [
       "DistilBertForSequenceClassification(\n",
       "  (distilbert): DistilBertModel(\n",
       "    (embeddings): Embeddings(\n",
       "      (word_embeddings): Embedding(30522, 768, padding_idx=0)\n",
       "      (position_embeddings): Embedding(512, 768)\n",
       "      (LayerNorm): LayerNorm((768,), eps=1e-12, elementwise_affine=True)\n",
       "      (dropout): Dropout(p=0.1, inplace=False)\n",
       "    )\n",
       "    (transformer): Transformer(\n",
       "      (layer): ModuleList(\n",
       "        (0-5): 6 x TransformerBlock(\n",
       "          (attention): DistilBertSdpaAttention(\n",
       "            (dropout): Dropout(p=0.1, inplace=False)\n",
       "            (q_lin): Linear(in_features=768, out_features=768, bias=True)\n",
       "            (k_lin): Linear(in_features=768, out_features=768, bias=True)\n",
       "            (v_lin): Linear(in_features=768, out_features=768, bias=True)\n",
       "            (out_lin): Linear(in_features=768, out_features=768, bias=True)\n",
       "          )\n",
       "          (sa_layer_norm): LayerNorm((768,), eps=1e-12, elementwise_affine=True)\n",
       "          (ffn): FFN(\n",
       "            (dropout): Dropout(p=0.1, inplace=False)\n",
       "            (lin1): Linear(in_features=768, out_features=3072, bias=True)\n",
       "            (lin2): Linear(in_features=3072, out_features=768, bias=True)\n",
       "            (activation): GELUActivation()\n",
       "          )\n",
       "          (output_layer_norm): LayerNorm((768,), eps=1e-12, elementwise_affine=True)\n",
       "        )\n",
       "      )\n",
       "    )\n",
       "  )\n",
       "  (pre_classifier): Linear(in_features=768, out_features=768, bias=True)\n",
       "  (classifier): Linear(in_features=768, out_features=2, bias=True)\n",
       "  (dropout): Dropout(p=0.2, inplace=False)\n",
       ")"
      ]
     },
     "execution_count": 46,
     "metadata": {},
     "output_type": "execute_result"
    }
   ],
   "source": [
    "# display architecture\n",
    "model"
   ]
  },
  {
   "cell_type": "markdown",
   "id": "f319dc21",
   "metadata": {},
   "source": [
    "## Preprocessing"
   ]
  },
  {
   "cell_type": "code",
   "execution_count": 47,
   "id": "a34f3943",
   "metadata": {},
   "outputs": [],
   "source": [
    "# Créer un tokenizer pour le modèle\n",
    "tokenizer = AutoTokenizer.from_pretrained(model_checkpoint, add_prefix_space=True)\n",
    "tokenizer.pad_token\n",
    "# Ajouter un jeton de padding s'il n'existe pas\n",
    "if tokenizer.pad_token is None:\n",
    "    tokenizer.add_special_tokens({'pad_token': '[PAD]'})\n",
    "    model.resize_token_embeddings(len(tokenizer))"
   ]
  },
  {
   "cell_type": "code",
   "execution_count": 48,
   "id": "20f4adb9-ce8f-4f54-9b94-300c9daae1b8",
   "metadata": {},
   "outputs": [],
   "source": [
    "# Créer une fonction pour tokenizer les données\n",
    "def tokenize_function(examples):\n",
    "    text = examples[\"review\"]\n",
    "    tokenizer.truncation_side = \"left\"\n",
    "    tokenized_inputs = tokenizer(\n",
    "        text,\n",
    "        padding=True,  # Ajout du padding directement ici\n",
    "        truncation=True,\n",
    "        max_length=512\n",
    "    )\n",
    "    return tokenized_inputs"
   ]
  },
  {
   "cell_type": "code",
   "execution_count": 49,
   "id": "b7600bcd-7e93-4fb4-bd8d-ffc76bed1ac2",
   "metadata": {},
   "outputs": [
    {
     "name": "stderr",
     "output_type": "stream",
     "text": [
      "Map: 100%|██████████| 1000/1000 [00:00<00:00, 1613.73 examples/s]\n",
      "Map: 100%|██████████| 1000/1000 [00:00<00:00, 3170.93 examples/s]\n"
     ]
    },
    {
     "data": {
      "text/plain": [
       "DatasetDict({\n",
       "    train: Dataset({\n",
       "        features: ['review', 'label', '__index_level_0__', 'input_ids', 'attention_mask'],\n",
       "        num_rows: 1000\n",
       "    })\n",
       "    test: Dataset({\n",
       "        features: ['review', 'label', '__index_level_0__', 'input_ids', 'attention_mask'],\n",
       "        num_rows: 1000\n",
       "    })\n",
       "})"
      ]
     },
     "execution_count": 49,
     "metadata": {},
     "output_type": "execute_result"
    }
   ],
   "source": [
    "# Tokenizer les ensembles d'entraînement et de test\n",
    "# Créer un DatasetDict\n",
    "# Tokenizer les ensembles d'entraînement et de test et créer un DatasetDict\n",
    "dataset = DatasetDict({\n",
    "    'train': train_dataset,\n",
    "    'test': test_dataset\n",
    "})\n",
    "\n",
    "tokenized_dataset = dataset.map(tokenize_function, batched=True)\n",
    "\n",
    "tokenized_dataset"
   ]
  },
  {
   "cell_type": "code",
   "execution_count": 50,
   "id": "3f8e85f9-1804-4f49-a783-4da59580ea1e",
   "metadata": {},
   "outputs": [],
   "source": [
    "# Créer un DataCollator pour gérer le padding\n",
    "data_collator = DataCollatorWithPadding(tokenizer=tokenizer)"
   ]
  },
  {
   "cell_type": "markdown",
   "id": "3cd9a120-580d-470c-a981-7c7e22604865",
   "metadata": {},
   "source": [
    "#### Evaluation du modèle"
   ]
  },
  {
   "cell_type": "code",
   "execution_count": 51,
   "id": "e4dde538-cd7f-4ab5-a96d-c30f3003822e",
   "metadata": {},
   "outputs": [],
   "source": [
    "# Configuration du modèle LoRA (Low-Rank Adaptation) pour le fine-tuning\n",
    "\n",
    "# Type de tâche, ici \"SEQ_CLS\" signifie classification de séquences\n",
    "peft_config = LoraConfig(\n",
    "    task_type=\"SEQ_CLS\",  # Type de tâche du modèle\n",
    "    # Facteur de régularisation \"r\" pour LoRA\n",
    "    r=4,\n",
    "    # Paramètre d'alpha pour LoRA, contrôlant l'importance de la régularisation LoRA\n",
    "    lora_alpha=32,\n",
    "    # Taux de dropout pour LoRA, qui détermine la probabilité de désactivation aléatoire des connexions\n",
    "    lora_dropout=0.01,\n",
    "    # Modules cibles pour l'application de la régularisation LoRA, ici uniquement le module 'q_lin' est ciblé\n",
    "    target_modules=['q_lin']\n",
    ")"
   ]
  },
  {
   "cell_type": "code",
   "execution_count": 52,
   "id": "f1391303-1e16-4d5c-b2b4-799997eff9f8",
   "metadata": {},
   "outputs": [
    {
     "data": {
      "text/plain": [
       "LoraConfig(task_type='SEQ_CLS', peft_type=<PeftType.LORA: 'LORA'>, auto_mapping=None, base_model_name_or_path=None, revision=None, inference_mode=False, r=4, target_modules={'q_lin'}, exclude_modules=None, lora_alpha=32, lora_dropout=0.01, fan_in_fan_out=False, bias='none', use_rslora=False, modules_to_save=None, init_lora_weights=True, layers_to_transform=None, layers_pattern=None, rank_pattern={}, alpha_pattern={}, megatron_config=None, megatron_core='megatron.core', trainable_token_indices=None, loftq_config={}, eva_config=None, corda_config=None, use_dora=False, layer_replication=None, runtime_config=LoraRuntimeConfig(ephemeral_gpu_offload=False), lora_bias=False)"
      ]
     },
     "execution_count": 52,
     "metadata": {},
     "output_type": "execute_result"
    }
   ],
   "source": [
    "peft_config"
   ]
  },
  {
   "cell_type": "code",
   "execution_count": 53,
   "id": "3e0d9408-9fc4-4bd3-8d35-4d8217fe01e2",
   "metadata": {},
   "outputs": [
    {
     "name": "stdout",
     "output_type": "stream",
     "text": [
      "trainable params: 628,994 || all params: 67,584,004 || trainable%: 0.9307\n"
     ]
    }
   ],
   "source": [
    "model = get_peft_model(model, peft_config)\n",
    "model.print_trainable_parameters()"
   ]
  },
  {
   "cell_type": "code",
   "execution_count": 54,
   "id": "5db78059-e5ae-4807-89db-b58ef6abedd1",
   "metadata": {},
   "outputs": [],
   "source": [
    "# Hyperparamètres\n",
    "# Taux d'apprentissage (learning rate) - C'est la vitesse à laquelle le modèle apprend\n",
    "lr = 1e-3\n",
    "# Taille du lot (batch size) - Le nombre d'exemples de données utilisés pour chaque mise à jour de poids du modèle\n",
    "batch_size = 4\n",
    "# Nombre d'époques (epochs) - Le nombre de fois que le modèle parcourt l'ensemble de données complet lors de l'entraînement\n",
    "num_epochs = 3"
   ]
  },
  {
   "cell_type": "code",
   "execution_count": 55,
   "id": "9244ed55-65a4-4c66-8388-55efd87bceb8",
   "metadata": {},
   "outputs": [
    {
     "name": "stderr",
     "output_type": "stream",
     "text": [
      "c:\\Users\\HP\\Documents\\Projet 8\\P8_Dashboard\\env_dashboard\\Lib\\site-packages\\transformers\\training_args.py:1611: FutureWarning: `evaluation_strategy` is deprecated and will be removed in version 4.46 of 🤗 Transformers. Use `eval_strategy` instead\n",
      "  warnings.warn(\n"
     ]
    }
   ],
   "source": [
    "# Définition des arguments d'entraînement\n",
    "\n",
    "# Répertoire de sortie où les résultats de l'entraînement seront sauvegardés\n",
    "training_args = TrainingArguments(\n",
    "    output_dir= model_checkpoint + \"-lora-text-classification\",  # Chemin du répertoire de sortie\n",
    "\n",
    "    # Taux d'apprentissage (learning rate) pour l'optimisation du modèle\n",
    "    learning_rate=lr,\n",
    "\n",
    "    # Taille du lot (batch size) d'entraînement par périphérique (GPU ou CPU)\n",
    "    per_device_train_batch_size=batch_size,\n",
    "\n",
    "    # Taille du lot (batch size) d'évaluation par périphérique (GPU ou CPU)\n",
    "    per_device_eval_batch_size=batch_size,\n",
    "\n",
    "    # Nombre d'époques d'entraînement (combien de fois le modèle parcourt l'ensemble de données)\n",
    "    num_train_epochs=num_epochs,\n",
    "\n",
    "    # Terme de régularisation pour contrôler le poids de la pénalisation dans la fonction de perte\n",
    "    weight_decay=0.01,\n",
    "\n",
    "    # Stratégie d'évaluation, ici \"epoch\" signifie évaluer à la fin de chaque époque\n",
    "    evaluation_strategy=\"epoch\",\n",
    "\n",
    "    # Stratégie de sauvegarde du modèle, ici \"epoch\" signifie sauvegarder le modèle à la fin de chaque époque\n",
    "    save_strategy=\"epoch\",\n",
    "\n",
    "    # Charger le meilleur modèle à la fin de l'entraînement\n",
    "    load_best_model_at_end=True\n",
    ")"
   ]
  },
  {
   "cell_type": "code",
   "execution_count": 56,
   "id": "fc8bc705-5dd7-4305-a797-399b2b0fa2c7",
   "metadata": {},
   "outputs": [
    {
     "name": "stderr",
     "output_type": "stream",
     "text": [
      "C:\\Users\\HP\\AppData\\Local\\Temp\\ipykernel_25272\\2241369498.py:4: FutureWarning: `tokenizer` is deprecated and will be removed in version 5.0.0 for `Trainer.__init__`. Use `processing_class` instead.\n",
      "  trainer = Trainer(\n",
      "No label_names provided for model class `PeftModelForSequenceClassification`. Since `PeftModel` hides base models input arguments, if label_names is not given, label_names can't be set automatically within `Trainer`. Note that empty label_names list will be used instead.\n"
     ]
    }
   ],
   "source": [
    "# Création de l'objet \"trainer\" pour entraîner le modèle\n",
    "\n",
    "# Le modèle à entraîner\n",
    "trainer = Trainer(\n",
    "    model=model,  # Le modèle que vous avez configuré précédemment\n",
    "\n",
    "    # Les arguments d'entraînement définis précédemment\n",
    "    args=training_args,\n",
    "\n",
    "    # L'ensemble de données d'entraînement tokenisé\n",
    "    train_dataset=tokenized_dataset[\"train\"],\n",
    "\n",
    "    # L'ensemble de données de validation tokenisé\n",
    "    eval_dataset=tokenized_dataset[\"test\"],\n",
    "\n",
    "    # Le tokenizer utilisé pour le prétraitement\n",
    "    tokenizer=tokenizer,\n",
    "\n",
    "    # Le \"data_collator\" qui gère le padding dynamique des exemples dans chaque lot pour qu'ils aient la même longueur\n",
    "    data_collator=data_collator,\n",
    "\n",
    "    # La fonction de calcul des métriques pour évaluer le modèle\n",
    "    compute_metrics=compute_metrics\n",
    ")"
   ]
  },
  {
   "cell_type": "code",
   "execution_count": 57,
   "id": "454275e1",
   "metadata": {},
   "outputs": [
    {
     "data": {
      "text/html": [
       "\n",
       "    <div>\n",
       "      \n",
       "      <progress value='750' max='750' style='width:300px; height:20px; vertical-align: middle;'></progress>\n",
       "      [750/750 1:19:01, Epoch 3/3]\n",
       "    </div>\n",
       "    <table border=\"1\" class=\"dataframe\">\n",
       "  <thead>\n",
       " <tr style=\"text-align: left;\">\n",
       "      <th>Epoch</th>\n",
       "      <th>Training Loss</th>\n",
       "      <th>Validation Loss</th>\n",
       "      <th>Accuracy</th>\n",
       "      <th>F1</th>\n",
       "      <th>Precision</th>\n",
       "      <th>Recall</th>\n",
       "    </tr>\n",
       "  </thead>\n",
       "  <tbody>\n",
       "    <tr>\n",
       "      <td>1</td>\n",
       "      <td>No log</td>\n",
       "      <td>0.522927</td>\n",
       "      <td>0.881000</td>\n",
       "      <td>0.881009</td>\n",
       "      <td>0.881034</td>\n",
       "      <td>0.881000</td>\n",
       "    </tr>\n",
       "    <tr>\n",
       "      <td>2</td>\n",
       "      <td>0.327900</td>\n",
       "      <td>0.611644</td>\n",
       "      <td>0.879000</td>\n",
       "      <td>0.878541</td>\n",
       "      <td>0.882361</td>\n",
       "      <td>0.879000</td>\n",
       "    </tr>\n",
       "    <tr>\n",
       "      <td>3</td>\n",
       "      <td>0.327900</td>\n",
       "      <td>0.699000</td>\n",
       "      <td>0.874000</td>\n",
       "      <td>0.874024</td>\n",
       "      <td>0.874496</td>\n",
       "      <td>0.874000</td>\n",
       "    </tr>\n",
       "  </tbody>\n",
       "</table><p>"
      ],
      "text/plain": [
       "<IPython.core.display.HTML object>"
      ]
     },
     "metadata": {},
     "output_type": "display_data"
    },
    {
     "data": {
      "text/plain": [
       "TrainOutput(global_step=750, training_loss=0.267607899983724, metrics={'train_runtime': 4745.1971, 'train_samples_per_second': 0.632, 'train_steps_per_second': 0.158, 'total_flos': 403199004672000.0, 'train_loss': 0.267607899983724, 'epoch': 3.0})"
      ]
     },
     "execution_count": 57,
     "metadata": {},
     "output_type": "execute_result"
    }
   ],
   "source": [
    "# Entraînement du modèle\n",
    "trainer.train()"
   ]
  },
  {
   "cell_type": "markdown",
   "id": "6f5664d1-9bd2-4ce1-bc24-cab5adf80f49",
   "metadata": {},
   "source": [
    "### Generate prediction"
   ]
  },
  {
   "cell_type": "code",
   "execution_count": 58,
   "id": "24d58c95-929b-47c6-9ec5-ed83ba5a25f5",
   "metadata": {},
   "outputs": [
    {
     "data": {
      "text/plain": [
       "PeftModelForSequenceClassification(\n",
       "  (base_model): LoraModel(\n",
       "    (model): DistilBertForSequenceClassification(\n",
       "      (distilbert): DistilBertModel(\n",
       "        (embeddings): Embeddings(\n",
       "          (word_embeddings): Embedding(30522, 768, padding_idx=0)\n",
       "          (position_embeddings): Embedding(512, 768)\n",
       "          (LayerNorm): LayerNorm((768,), eps=1e-12, elementwise_affine=True)\n",
       "          (dropout): Dropout(p=0.1, inplace=False)\n",
       "        )\n",
       "        (transformer): Transformer(\n",
       "          (layer): ModuleList(\n",
       "            (0-5): 6 x TransformerBlock(\n",
       "              (attention): DistilBertSdpaAttention(\n",
       "                (dropout): Dropout(p=0.1, inplace=False)\n",
       "                (q_lin): lora.Linear(\n",
       "                  (base_layer): Linear(in_features=768, out_features=768, bias=True)\n",
       "                  (lora_dropout): ModuleDict(\n",
       "                    (default): Dropout(p=0.01, inplace=False)\n",
       "                  )\n",
       "                  (lora_A): ModuleDict(\n",
       "                    (default): Linear(in_features=768, out_features=4, bias=False)\n",
       "                  )\n",
       "                  (lora_B): ModuleDict(\n",
       "                    (default): Linear(in_features=4, out_features=768, bias=False)\n",
       "                  )\n",
       "                  (lora_embedding_A): ParameterDict()\n",
       "                  (lora_embedding_B): ParameterDict()\n",
       "                  (lora_magnitude_vector): ModuleDict()\n",
       "                )\n",
       "                (k_lin): Linear(in_features=768, out_features=768, bias=True)\n",
       "                (v_lin): Linear(in_features=768, out_features=768, bias=True)\n",
       "                (out_lin): Linear(in_features=768, out_features=768, bias=True)\n",
       "              )\n",
       "              (sa_layer_norm): LayerNorm((768,), eps=1e-12, elementwise_affine=True)\n",
       "              (ffn): FFN(\n",
       "                (dropout): Dropout(p=0.1, inplace=False)\n",
       "                (lin1): Linear(in_features=768, out_features=3072, bias=True)\n",
       "                (lin2): Linear(in_features=3072, out_features=768, bias=True)\n",
       "                (activation): GELUActivation()\n",
       "              )\n",
       "              (output_layer_norm): LayerNorm((768,), eps=1e-12, elementwise_affine=True)\n",
       "            )\n",
       "          )\n",
       "        )\n",
       "      )\n",
       "      (pre_classifier): ModulesToSaveWrapper(\n",
       "        (original_module): Linear(in_features=768, out_features=768, bias=True)\n",
       "        (modules_to_save): ModuleDict(\n",
       "          (default): Linear(in_features=768, out_features=768, bias=True)\n",
       "        )\n",
       "      )\n",
       "      (classifier): ModulesToSaveWrapper(\n",
       "        (original_module): Linear(in_features=768, out_features=2, bias=True)\n",
       "        (modules_to_save): ModuleDict(\n",
       "          (default): Linear(in_features=768, out_features=2, bias=True)\n",
       "        )\n",
       "      )\n",
       "      (dropout): Dropout(p=0.2, inplace=False)\n",
       "    )\n",
       "  )\n",
       ")"
      ]
     },
     "execution_count": 58,
     "metadata": {},
     "output_type": "execute_result"
    }
   ],
   "source": [
    "# Passer le modèle en mode 'mps' (pour Mac, vous pouvez également utiliser 'cpu')\n",
    "device = torch.device('cuda' if torch.cuda.is_available() else 'cpu')\n",
    "model.to(device)"
   ]
  },
  {
   "cell_type": "markdown",
   "id": "eec80a27-dded-4b5e-a716-1d22fd4d380b",
   "metadata": {},
   "source": [
    "### **Demo: Prédictions du modèle Fine-tuning LoRA**"
   ]
  },
  {
   "cell_type": "code",
   "execution_count": 59,
   "id": "e5dc029e-1c16-491d-a3f1-715f9e0adf52",
   "metadata": {},
   "outputs": [
    {
     "name": "stdout",
     "output_type": "stream",
     "text": [
      "Prédictions du modèle entraîné :\n",
      "---------------------------------\n",
      "This movie was a masterpiece. - Positif\n",
      "I was blown away by the acting. - Négatif\n",
      "It's a classic that everyone should watch. - Positif\n",
      "The plot was confusing and hard to follow. - Négatif\n",
      "The special effects were top-notch. - Positif\n",
      "I couldn't stop laughing throughout the movie. - Négatif\n",
      "The soundtrack was incredible. - Positif\n",
      "It's a total waste of time. - Négatif\n",
      "I'm still thinking about that ending. - Négatif\n",
      "I wouldn't recommend it to anyone. - Négatif\n"
     ]
    }
   ],
   "source": [
    "# Afficher les prédictions du modèle entraîné\n",
    "print(\"Prédictions du modèle entraîné :\")\n",
    "print(\"---------------------------------\")\n",
    "\n",
    "# Parcourir la liste des textes à prédire\n",
    "for texte in liste_texte:\n",
    "    # Tokenizer le texte\n",
    "    inputs = tokenizer.encode(texte, return_tensors=\"pt\").to(device) # Passage en mode 'mps' (ou 'cpu' en alternative pour Mac)\n",
    "\n",
    "    # Obtenir les logits du modèle pour le texte\n",
    "    logits = model(inputs).logits\n",
    "\n",
    "    # Prédire la classe en choisissant l'indice du logit le plus élevé\n",
    "    predictions = torch.max(logits, 1).indices\n",
    "\n",
    "    # Afficher le texte et l'étiquette prédite\n",
    "    print(texte + \" - \" + id2label[predictions.tolist()[0]])\n"
   ]
  },
  {
   "cell_type": "markdown",
   "id": "a1d7dfd1-71d5-44d7-b3c5-582076d5bdad",
   "metadata": {},
   "source": [
    "#####"
   ]
  },
  {
   "cell_type": "markdown",
   "id": "23d3e4fe-6c44-4c07-a8d0-d58b99cbf30d",
   "metadata": {},
   "source": [
    "### 8. **Comparaison visuelle des performances : Baseline vs DistilBERT vs LoRa**"
   ]
  },
  {
   "cell_type": "code",
   "execution_count": 60,
   "id": "6ae7901b-5b2c-4b9c-bcd7-11ad2f7bb75d",
   "metadata": {},
   "outputs": [
    {
     "data": {
      "image/png": "[encoded data removed]",
      "text/plain": [
       "<Figure size 800x500 with 1 Axes>"
      ]
     },
     "metadata": {},
     "output_type": "display_data"
    }
   ],
   "source": [
    "# Résultats à partir des évaluations précédentes\n",
    "baseline_metrics = {\"Accuracy\": 0.81, \"F1-score\": 0.81}\n",
    "distilbert_metrics = {\"Accuracy\": 0.90, \"F1-score\": 0.90}\n",
    "LoRa_metrics = {\"Accuracy\": 0.87, \"F1-score\": 0.87}\n",
    "\n",
    "import matplotlib.pyplot as plt\n",
    "\n",
    "labels = list(baseline_metrics.keys())\n",
    "baseline_values = list(baseline_metrics.values())\n",
    "distilbert_values = list(distilbert_metrics.values())\n",
    "LoRa_values = list(LoRa_metrics.values())\n",
    "\n",
    "x = range(len(labels))\n",
    "\n",
    "\n",
    "plt.figure(figsize=(8, 5))\n",
    "plt.bar([i - 0.2 for i in x], baseline_values, width=0.2, label='TF-IDF + Naive Bayes', color='skyblue')\n",
    "plt.bar([i + 0.2 for i in x], distilbert_values, width=0.2, label='DistilBERT Fine-tuned', color='lightgreen')\n",
    "plt.bar([i + 0 for i in x], LoRa_values, width=0.2, label='LoRa Fine-tuned', color='red')\n",
    "plt.xticks(ticks=x, labels=labels)\n",
    "plt.ylim(0.5, 1.0)\n",
    "plt.title(\"Comparaison des modèles sur les métriques principales\")\n",
    "plt.ylabel(\"Score\")\n",
    "plt.legend()\n",
    "plt.grid(axis='y', linestyle='--', alpha=0.7)\n",
    "plt.tight_layout()\n",
    "plt.show()\n"
   ]
  },
  {
   "cell_type": "markdown",
   "id": "522ceda7-17ef-488f-a2e1-f4cfb7c7a6f9",
   "metadata": {},
   "source": [
    "##"
   ]
  },
  {
   "cell_type": "markdown",
   "id": "2c0e1e9f-a613-4431-a51c-7394e2c80a4e",
   "metadata": {},
   "source": [
    "## **Note méthodologique synthétique**"
   ]
  },
  {
   "cell_type": "markdown",
   "id": "f3daa6dc-f6de-4df0-9dd2-2d6dd9d53714",
   "metadata": {},
   "source": [
    "#### **Note Méthodologique**\n",
    "\n",
    "**Objectif :** Comparer un modèle NLP moderne (DistilBERT) avec un modèle </br>\n",
    "classique (TF-IDF + Naive Bayes)pour une tâche d'analyse de sentiment.</br>\n",
    "\n",
    "#### **Méthodes comparées**\n",
    "- DistilBERT fine-tuné : Transformer compressé, entraîné via HuggingFace Trainer\n",
    "- TF-IDF + Naive Bayes : pipeline classique scikit-learn\n",
    "\n",
    "#### **Résultats comparatifs**\n",
    "\n",
    "|**Modèles**              | Accuracy | F1-score |\n",
    "|-------------------------|----------|----------|\n",
    "| TF-IDF + Naive Bayes    | ~81%     | ~0.81    |\n",
    "| **DistilBERT Fine-tuné**| **90%**  | **0.90** |\n",
    "\n",
    "#### **Conclusion**\n",
    "DistilBERT offre de bien meilleures performances avec peu de ressources,</br>\n",
    "et est adapté pour une intégration dans des systèmes modernes de NLP.\n"
   ]
  },
  {
   "cell_type": "code",
   "execution_count": null,
   "id": "e9186521-e6aa-45ee-9d00-2848e494109e",
   "metadata": {},
   "outputs": [],
   "source": []
  }
 ],
 "metadata": {
  "hide_input": false,
  "kernelspec": {
   "display_name": "env_dashboard",
   "language": "python",
   "name": "python3"
  },
  "language_info": {
   "codemirror_mode": {
    "name": "ipython",
    "version": 3
   },
   "file_extension": ".py",
   "mimetype": "text/x-python",
   "name": "python",
   "nbconvert_exporter": "python",
   "pygments_lexer": "ipython3",
   "version": "3.11.0"
  },
  "toc": {
   "base_numbering": 1,
   "nav_menu": {},
   "number_sections": true,
   "sideBar": true,
   "skip_h1_title": false,
   "title_cell": "Table of Contents",
   "title_sidebar": "Contents",
   "toc_cell": false,
   "toc_position": {},
   "toc_section_display": true,
   "toc_window_display": false
  }
 },
 "nbformat": 4,
 "nbformat_minor": 5
}
